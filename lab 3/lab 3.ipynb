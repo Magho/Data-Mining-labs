{
 "cells": [
  {
   "cell_type": "markdown",
   "metadata": {},
   "source": [
    "# Import Packages"
   ]
  },
  {
   "cell_type": "code",
   "execution_count": 1,
   "metadata": {},
   "outputs": [],
   "source": [
    "import pandas as pd\n",
    "import matplotlib.pyplot as plt\n",
    "import numpy as np\n",
    "import seaborn as sns\n",
    "from sklearn.model_selection import StratifiedShuffleSplit\n",
    "from sklearn.decomposition import PCA\n",
    "from sklearn.model_selection import GridSearchCV\n",
    "from sklearn.metrics import precision_recall_fscore_support\n",
    "from sklearn.metrics import confusion_matrix\n",
    "from scipy import stats\n",
    "from scipy.stats import zscore\n",
    "from sklearn.neighbors import KNeighborsClassifier\n",
    "from sklearn.svm import LinearSVC\n",
    "from sklearn.svm import SVC\n",
    "from sklearn.linear_model import LogisticRegression"
   ]
  },
  {
   "cell_type": "markdown",
   "metadata": {},
   "source": [
    "# Load Data"
   ]
  },
  {
   "cell_type": "code",
   "execution_count": 2,
   "metadata": {},
   "outputs": [],
   "source": [
    "# prepare column names\n",
    "col_names=[\"ID\", \"Class\"]\n",
    "for i in range(1,31):\n",
    "    col_names.append(\"attr {}\".format(i))"
   ]
  },
  {
   "cell_type": "code",
   "execution_count": 3,
   "metadata": {},
   "outputs": [
    {
     "name": "stdout",
     "output_type": "stream",
     "text": [
      "(569, 32)\n"
     ]
    }
   ],
   "source": [
    "data_url = 'https://archive.ics.uci.edu/ml/machine-learning-databases/breast-cancer-wisconsin/wdbc.data' \n",
    "data = pd.read_csv(data_url, sep=',', names=col_names)\n",
    "print(data.shape)"
   ]
  },
  {
   "cell_type": "code",
   "execution_count": 4,
   "metadata": {},
   "outputs": [
    {
     "data": {
      "text/html": [
       "<div>\n",
       "<style scoped>\n",
       "    .dataframe tbody tr th:only-of-type {\n",
       "        vertical-align: middle;\n",
       "    }\n",
       "\n",
       "    .dataframe tbody tr th {\n",
       "        vertical-align: top;\n",
       "    }\n",
       "\n",
       "    .dataframe thead th {\n",
       "        text-align: right;\n",
       "    }\n",
       "</style>\n",
       "<table border=\"1\" class=\"dataframe\">\n",
       "  <thead>\n",
       "    <tr style=\"text-align: right;\">\n",
       "      <th></th>\n",
       "      <th>ID</th>\n",
       "      <th>Class</th>\n",
       "      <th>attr 1</th>\n",
       "      <th>attr 2</th>\n",
       "      <th>attr 3</th>\n",
       "      <th>attr 4</th>\n",
       "      <th>attr 5</th>\n",
       "      <th>attr 6</th>\n",
       "      <th>attr 7</th>\n",
       "      <th>attr 8</th>\n",
       "      <th>...</th>\n",
       "      <th>attr 21</th>\n",
       "      <th>attr 22</th>\n",
       "      <th>attr 23</th>\n",
       "      <th>attr 24</th>\n",
       "      <th>attr 25</th>\n",
       "      <th>attr 26</th>\n",
       "      <th>attr 27</th>\n",
       "      <th>attr 28</th>\n",
       "      <th>attr 29</th>\n",
       "      <th>attr 30</th>\n",
       "    </tr>\n",
       "  </thead>\n",
       "  <tbody>\n",
       "    <tr>\n",
       "      <th>0</th>\n",
       "      <td>842302</td>\n",
       "      <td>M</td>\n",
       "      <td>17.99</td>\n",
       "      <td>10.38</td>\n",
       "      <td>122.80</td>\n",
       "      <td>1001.0</td>\n",
       "      <td>0.11840</td>\n",
       "      <td>0.27760</td>\n",
       "      <td>0.3001</td>\n",
       "      <td>0.14710</td>\n",
       "      <td>...</td>\n",
       "      <td>25.38</td>\n",
       "      <td>17.33</td>\n",
       "      <td>184.60</td>\n",
       "      <td>2019.0</td>\n",
       "      <td>0.1622</td>\n",
       "      <td>0.6656</td>\n",
       "      <td>0.7119</td>\n",
       "      <td>0.2654</td>\n",
       "      <td>0.4601</td>\n",
       "      <td>0.11890</td>\n",
       "    </tr>\n",
       "    <tr>\n",
       "      <th>1</th>\n",
       "      <td>842517</td>\n",
       "      <td>M</td>\n",
       "      <td>20.57</td>\n",
       "      <td>17.77</td>\n",
       "      <td>132.90</td>\n",
       "      <td>1326.0</td>\n",
       "      <td>0.08474</td>\n",
       "      <td>0.07864</td>\n",
       "      <td>0.0869</td>\n",
       "      <td>0.07017</td>\n",
       "      <td>...</td>\n",
       "      <td>24.99</td>\n",
       "      <td>23.41</td>\n",
       "      <td>158.80</td>\n",
       "      <td>1956.0</td>\n",
       "      <td>0.1238</td>\n",
       "      <td>0.1866</td>\n",
       "      <td>0.2416</td>\n",
       "      <td>0.1860</td>\n",
       "      <td>0.2750</td>\n",
       "      <td>0.08902</td>\n",
       "    </tr>\n",
       "    <tr>\n",
       "      <th>2</th>\n",
       "      <td>84300903</td>\n",
       "      <td>M</td>\n",
       "      <td>19.69</td>\n",
       "      <td>21.25</td>\n",
       "      <td>130.00</td>\n",
       "      <td>1203.0</td>\n",
       "      <td>0.10960</td>\n",
       "      <td>0.15990</td>\n",
       "      <td>0.1974</td>\n",
       "      <td>0.12790</td>\n",
       "      <td>...</td>\n",
       "      <td>23.57</td>\n",
       "      <td>25.53</td>\n",
       "      <td>152.50</td>\n",
       "      <td>1709.0</td>\n",
       "      <td>0.1444</td>\n",
       "      <td>0.4245</td>\n",
       "      <td>0.4504</td>\n",
       "      <td>0.2430</td>\n",
       "      <td>0.3613</td>\n",
       "      <td>0.08758</td>\n",
       "    </tr>\n",
       "    <tr>\n",
       "      <th>3</th>\n",
       "      <td>84348301</td>\n",
       "      <td>M</td>\n",
       "      <td>11.42</td>\n",
       "      <td>20.38</td>\n",
       "      <td>77.58</td>\n",
       "      <td>386.1</td>\n",
       "      <td>0.14250</td>\n",
       "      <td>0.28390</td>\n",
       "      <td>0.2414</td>\n",
       "      <td>0.10520</td>\n",
       "      <td>...</td>\n",
       "      <td>14.91</td>\n",
       "      <td>26.50</td>\n",
       "      <td>98.87</td>\n",
       "      <td>567.7</td>\n",
       "      <td>0.2098</td>\n",
       "      <td>0.8663</td>\n",
       "      <td>0.6869</td>\n",
       "      <td>0.2575</td>\n",
       "      <td>0.6638</td>\n",
       "      <td>0.17300</td>\n",
       "    </tr>\n",
       "    <tr>\n",
       "      <th>4</th>\n",
       "      <td>84358402</td>\n",
       "      <td>M</td>\n",
       "      <td>20.29</td>\n",
       "      <td>14.34</td>\n",
       "      <td>135.10</td>\n",
       "      <td>1297.0</td>\n",
       "      <td>0.10030</td>\n",
       "      <td>0.13280</td>\n",
       "      <td>0.1980</td>\n",
       "      <td>0.10430</td>\n",
       "      <td>...</td>\n",
       "      <td>22.54</td>\n",
       "      <td>16.67</td>\n",
       "      <td>152.20</td>\n",
       "      <td>1575.0</td>\n",
       "      <td>0.1374</td>\n",
       "      <td>0.2050</td>\n",
       "      <td>0.4000</td>\n",
       "      <td>0.1625</td>\n",
       "      <td>0.2364</td>\n",
       "      <td>0.07678</td>\n",
       "    </tr>\n",
       "  </tbody>\n",
       "</table>\n",
       "<p>5 rows × 32 columns</p>\n",
       "</div>"
      ],
      "text/plain": [
       "         ID Class  attr 1  attr 2  attr 3  attr 4   attr 5   attr 6  attr 7  \\\n",
       "0    842302     M   17.99   10.38  122.80  1001.0  0.11840  0.27760  0.3001   \n",
       "1    842517     M   20.57   17.77  132.90  1326.0  0.08474  0.07864  0.0869   \n",
       "2  84300903     M   19.69   21.25  130.00  1203.0  0.10960  0.15990  0.1974   \n",
       "3  84348301     M   11.42   20.38   77.58   386.1  0.14250  0.28390  0.2414   \n",
       "4  84358402     M   20.29   14.34  135.10  1297.0  0.10030  0.13280  0.1980   \n",
       "\n",
       "    attr 8  ...  attr 21  attr 22  attr 23  attr 24  attr 25  attr 26  \\\n",
       "0  0.14710  ...    25.38    17.33   184.60   2019.0   0.1622   0.6656   \n",
       "1  0.07017  ...    24.99    23.41   158.80   1956.0   0.1238   0.1866   \n",
       "2  0.12790  ...    23.57    25.53   152.50   1709.0   0.1444   0.4245   \n",
       "3  0.10520  ...    14.91    26.50    98.87    567.7   0.2098   0.8663   \n",
       "4  0.10430  ...    22.54    16.67   152.20   1575.0   0.1374   0.2050   \n",
       "\n",
       "   attr 27  attr 28  attr 29  attr 30  \n",
       "0   0.7119   0.2654   0.4601  0.11890  \n",
       "1   0.2416   0.1860   0.2750  0.08902  \n",
       "2   0.4504   0.2430   0.3613  0.08758  \n",
       "3   0.6869   0.2575   0.6638  0.17300  \n",
       "4   0.4000   0.1625   0.2364  0.07678  \n",
       "\n",
       "[5 rows x 32 columns]"
      ]
     },
     "execution_count": 4,
     "metadata": {},
     "output_type": "execute_result"
    }
   ],
   "source": [
    "data.head()"
   ]
  },
  {
   "cell_type": "markdown",
   "metadata": {},
   "source": [
    "# splitting the data into train and test"
   ]
  },
  {
   "cell_type": "code",
   "execution_count": 5,
   "metadata": {},
   "outputs": [],
   "source": [
    "def split(data, labels):\n",
    "    sss = StratifiedShuffleSplit(n_splits=1, test_size=0.3)\n",
    "    for train_index, test_index in sss.split(data, labels):\n",
    "        print(train_index)\n",
    "        x_train, x_test = data.iloc[train_index], data.iloc[test_index]\n",
    "        y_train, y_test = labels[train_index], labels[test_index]\n",
    "    return train_index, test_index"
   ]
  },
  {
   "cell_type": "code",
   "execution_count": 6,
   "metadata": {},
   "outputs": [
    {
     "name": "stdout",
     "output_type": "stream",
     "text": [
      "[503 169 465 498 130 161 425 404 176 505 534  25 418 398 349  56 205 372\n",
      "  80  91 209 269 474 109 553 263   8 405 197 204 383 432 406 532 322 224\n",
      " 280 496 174 336  98 424 172 170 500  54 337 565 378 530 478 219   9  23\n",
      "  71 305  17 562 567   3 175 380 557  42 234 379 103 340 284 131 399 547\n",
      " 371 395 223 489 262 375 105 328 528  57 191 515 563 317 110 270  36 513\n",
      " 118 483 382 166 494 421 208 211 362 140 560  19 429 123 393  39 411 132\n",
      " 299 283 178 545 531 347 433 519 344 158 320 335 323 357 338 159 437 199\n",
      " 215 173  26 309 306 523 294 525 100 521 477 511 556 420 373  69 451   5\n",
      " 154  63 387 189 314 241 480 293 546 514 564 157 231 358 198 497 137 558\n",
      " 419 414 117 254 442 138 122 438 268 352  90 313 124 401   1 490 134  73\n",
      " 316  14 127 407 472 359 365  76  87 261 533 469 363 136 243 302 151 568\n",
      " 101 168  89 272  43 466 278 488 374  11  31 527  77 518 526 255 366  97\n",
      " 212 422 487 273 499  86 246 319 353 240 292 111 181 225 516  21 391 251\n",
      " 520  94 360 410  79 458 259  52  88 252 370 216  27 470 164 552 440 324\n",
      " 484 535 188 146 104 271 250 210 116 150 392 402  48 221 441 448  82  34\n",
      " 180 415 348 179  38 185 165 227 510 439 267  15 397 236  95  81  29 286\n",
      " 339  50 435 555 106 446 133 334 186 232 194 156 238 427 289 554 454  40\n",
      "  65  83  30 456 321 449 274 160 171 559 376 200 455  72 409 504 385 265\n",
      " 112 445  13  32 201 121  84 276 351 377 326 291 444  58 544 502  67 364\n",
      " 277 247 549 368 115 217 408  62 202 135 149 152 443 423 541  75 318 543\n",
      " 258 183 400  60 416 537 561 144 182 333 508 431 447  18 412 287  70 213\n",
      "  44 341 249 453 479 281 522 501 529  24 300 275 356 260 245 327 485 462\n",
      " 413 388]\n"
     ]
    }
   ],
   "source": [
    "train_index, test_index = split(data.iloc[:,2:], data.iloc[:,1])"
   ]
  },
  {
   "cell_type": "code",
   "execution_count": 7,
   "metadata": {},
   "outputs": [],
   "source": [
    "train_data = data.iloc[train_index]\n",
    "test_data = data.iloc[test_index]"
   ]
  },
  {
   "cell_type": "markdown",
   "metadata": {},
   "source": [
    "# Preprocessing"
   ]
  },
  {
   "cell_type": "markdown",
   "metadata": {},
   "source": [
    "## Z-score"
   ]
  },
  {
   "cell_type": "markdown",
   "metadata": {},
   "source": [
    "### Train data"
   ]
  },
  {
   "cell_type": "code",
   "execution_count": 8,
   "metadata": {},
   "outputs": [
    {
     "data": {
      "text/html": [
       "<div>\n",
       "<style scoped>\n",
       "    .dataframe tbody tr th:only-of-type {\n",
       "        vertical-align: middle;\n",
       "    }\n",
       "\n",
       "    .dataframe tbody tr th {\n",
       "        vertical-align: top;\n",
       "    }\n",
       "\n",
       "    .dataframe thead th {\n",
       "        text-align: right;\n",
       "    }\n",
       "</style>\n",
       "<table border=\"1\" class=\"dataframe\">\n",
       "  <thead>\n",
       "    <tr style=\"text-align: right;\">\n",
       "      <th></th>\n",
       "      <th>ID</th>\n",
       "      <th>Class</th>\n",
       "      <th>attr 1</th>\n",
       "      <th>attr 2</th>\n",
       "      <th>attr 3</th>\n",
       "      <th>attr 4</th>\n",
       "      <th>attr 5</th>\n",
       "      <th>attr 6</th>\n",
       "      <th>attr 7</th>\n",
       "      <th>attr 8</th>\n",
       "      <th>...</th>\n",
       "      <th>attr 21</th>\n",
       "      <th>attr 22</th>\n",
       "      <th>attr 23</th>\n",
       "      <th>attr 24</th>\n",
       "      <th>attr 25</th>\n",
       "      <th>attr 26</th>\n",
       "      <th>attr 27</th>\n",
       "      <th>attr 28</th>\n",
       "      <th>attr 29</th>\n",
       "      <th>attr 30</th>\n",
       "    </tr>\n",
       "  </thead>\n",
       "  <tbody>\n",
       "    <tr>\n",
       "      <th>503</th>\n",
       "      <td>915143</td>\n",
       "      <td>M</td>\n",
       "      <td>2.460756</td>\n",
       "      <td>0.137315</td>\n",
       "      <td>2.404650</td>\n",
       "      <td>2.808607</td>\n",
       "      <td>-0.217697</td>\n",
       "      <td>0.436265</td>\n",
       "      <td>0.977795</td>\n",
       "      <td>1.285341</td>\n",
       "      <td>...</td>\n",
       "      <td>2.922729</td>\n",
       "      <td>-0.281466</td>\n",
       "      <td>3.052752</td>\n",
       "      <td>3.235682</td>\n",
       "      <td>-0.564187</td>\n",
       "      <td>0.669342</td>\n",
       "      <td>0.506388</td>\n",
       "      <td>1.693839</td>\n",
       "      <td>0.038080</td>\n",
       "      <td>-0.598390</td>\n",
       "    </tr>\n",
       "    <tr>\n",
       "      <th>169</th>\n",
       "      <td>8712853</td>\n",
       "      <td>B</td>\n",
       "      <td>0.204971</td>\n",
       "      <td>-0.531630</td>\n",
       "      <td>0.144071</td>\n",
       "      <td>0.055720</td>\n",
       "      <td>0.142656</td>\n",
       "      <td>-0.489496</td>\n",
       "      <td>-0.807709</td>\n",
       "      <td>-0.305352</td>\n",
       "      <td>...</td>\n",
       "      <td>-0.059434</td>\n",
       "      <td>-0.421973</td>\n",
       "      <td>-0.102396</td>\n",
       "      <td>-0.176661</td>\n",
       "      <td>-0.488911</td>\n",
       "      <td>-0.580740</td>\n",
       "      <td>-1.010896</td>\n",
       "      <td>-0.462228</td>\n",
       "      <td>-0.783536</td>\n",
       "      <td>-1.046627</td>\n",
       "    </tr>\n",
       "    <tr>\n",
       "      <th>465</th>\n",
       "      <td>9113239</td>\n",
       "      <td>B</td>\n",
       "      <td>-0.275634</td>\n",
       "      <td>0.206997</td>\n",
       "      <td>-0.234176</td>\n",
       "      <td>-0.339484</td>\n",
       "      <td>-0.960882</td>\n",
       "      <td>0.337315</td>\n",
       "      <td>0.137885</td>\n",
       "      <td>-0.546667</td>\n",
       "      <td>...</td>\n",
       "      <td>-0.195541</td>\n",
       "      <td>-0.018220</td>\n",
       "      <td>0.204559</td>\n",
       "      <td>-0.279977</td>\n",
       "      <td>-0.555331</td>\n",
       "      <td>1.940175</td>\n",
       "      <td>1.845624</td>\n",
       "      <td>0.312311</td>\n",
       "      <td>-0.064622</td>\n",
       "      <td>2.153861</td>\n",
       "    </tr>\n",
       "    <tr>\n",
       "      <th>498</th>\n",
       "      <td>914769</td>\n",
       "      <td>M</td>\n",
       "      <td>1.182848</td>\n",
       "      <td>-0.399234</td>\n",
       "      <td>1.158662</td>\n",
       "      <td>1.111716</td>\n",
       "      <td>0.328803</td>\n",
       "      <td>0.516187</td>\n",
       "      <td>0.744487</td>\n",
       "      <td>1.069736</td>\n",
       "      <td>...</td>\n",
       "      <td>1.289446</td>\n",
       "      <td>-0.441353</td>\n",
       "      <td>1.131329</td>\n",
       "      <td>1.207120</td>\n",
       "      <td>0.378971</td>\n",
       "      <td>0.332298</td>\n",
       "      <td>0.379834</td>\n",
       "      <td>0.778406</td>\n",
       "      <td>-0.610736</td>\n",
       "      <td>0.546225</td>\n",
       "    </tr>\n",
       "    <tr>\n",
       "      <th>130</th>\n",
       "      <td>866714</td>\n",
       "      <td>B</td>\n",
       "      <td>-0.567330</td>\n",
       "      <td>-1.381747</td>\n",
       "      <td>-0.549314</td>\n",
       "      <td>-0.580200</td>\n",
       "      <td>0.708122</td>\n",
       "      <td>-0.180465</td>\n",
       "      <td>-0.775802</td>\n",
       "      <td>-0.534194</td>\n",
       "      <td>...</td>\n",
       "      <td>-0.622145</td>\n",
       "      <td>-1.260164</td>\n",
       "      <td>-0.492584</td>\n",
       "      <td>-0.603139</td>\n",
       "      <td>0.445390</td>\n",
       "      <td>0.015376</td>\n",
       "      <td>-0.852486</td>\n",
       "      <td>-0.507619</td>\n",
       "      <td>0.952617</td>\n",
       "      <td>0.438522</td>\n",
       "    </tr>\n",
       "  </tbody>\n",
       "</table>\n",
       "<p>5 rows × 32 columns</p>\n",
       "</div>"
      ],
      "text/plain": [
       "          ID Class    attr 1    attr 2    attr 3    attr 4    attr 5  \\\n",
       "503   915143     M  2.460756  0.137315  2.404650  2.808607 -0.217697   \n",
       "169  8712853     B  0.204971 -0.531630  0.144071  0.055720  0.142656   \n",
       "465  9113239     B -0.275634  0.206997 -0.234176 -0.339484 -0.960882   \n",
       "498   914769     M  1.182848 -0.399234  1.158662  1.111716  0.328803   \n",
       "130   866714     B -0.567330 -1.381747 -0.549314 -0.580200  0.708122   \n",
       "\n",
       "       attr 6    attr 7    attr 8  ...   attr 21   attr 22   attr 23  \\\n",
       "503  0.436265  0.977795  1.285341  ...  2.922729 -0.281466  3.052752   \n",
       "169 -0.489496 -0.807709 -0.305352  ... -0.059434 -0.421973 -0.102396   \n",
       "465  0.337315  0.137885 -0.546667  ... -0.195541 -0.018220  0.204559   \n",
       "498  0.516187  0.744487  1.069736  ...  1.289446 -0.441353  1.131329   \n",
       "130 -0.180465 -0.775802 -0.534194  ... -0.622145 -1.260164 -0.492584   \n",
       "\n",
       "      attr 24   attr 25   attr 26   attr 27   attr 28   attr 29   attr 30  \n",
       "503  3.235682 -0.564187  0.669342  0.506388  1.693839  0.038080 -0.598390  \n",
       "169 -0.176661 -0.488911 -0.580740 -1.010896 -0.462228 -0.783536 -1.046627  \n",
       "465 -0.279977 -0.555331  1.940175  1.845624  0.312311 -0.064622  2.153861  \n",
       "498  1.207120  0.378971  0.332298  0.379834  0.778406 -0.610736  0.546225  \n",
       "130 -0.603139  0.445390  0.015376 -0.852486 -0.507619  0.952617  0.438522  \n",
       "\n",
       "[5 rows x 32 columns]"
      ]
     },
     "execution_count": 8,
     "metadata": {},
     "output_type": "execute_result"
    }
   ],
   "source": [
    "# skip applying 'z-score' on class, Id columns\n",
    "cols = train_data.columns[2:]\n",
    "x = train_data[cols]# skip applying 'z-score' on constant columns\n",
    "x_scaled = x.apply(lambda x: x if np.std(x) == 0 else zscore(x)) \n",
    "temp_data = pd.DataFrame(x_scaled, columns = cols)\n",
    "temp_data.insert(0,'ID',train_data.iloc[:,0].values, True)\n",
    "temp_data.insert(1,'Class',train_data.iloc[:,1].values, True)\n",
    "train_data = temp_data\n",
    "train_data.head()"
   ]
  },
  {
   "cell_type": "markdown",
   "metadata": {},
   "source": [
    "### Test data"
   ]
  },
  {
   "cell_type": "code",
   "execution_count": 9,
   "metadata": {},
   "outputs": [
    {
     "data": {
      "text/html": [
       "<div>\n",
       "<style scoped>\n",
       "    .dataframe tbody tr th:only-of-type {\n",
       "        vertical-align: middle;\n",
       "    }\n",
       "\n",
       "    .dataframe tbody tr th {\n",
       "        vertical-align: top;\n",
       "    }\n",
       "\n",
       "    .dataframe thead th {\n",
       "        text-align: right;\n",
       "    }\n",
       "</style>\n",
       "<table border=\"1\" class=\"dataframe\">\n",
       "  <thead>\n",
       "    <tr style=\"text-align: right;\">\n",
       "      <th></th>\n",
       "      <th>ID</th>\n",
       "      <th>Class</th>\n",
       "      <th>attr 1</th>\n",
       "      <th>attr 2</th>\n",
       "      <th>attr 3</th>\n",
       "      <th>attr 4</th>\n",
       "      <th>attr 5</th>\n",
       "      <th>attr 6</th>\n",
       "      <th>attr 7</th>\n",
       "      <th>attr 8</th>\n",
       "      <th>...</th>\n",
       "      <th>attr 21</th>\n",
       "      <th>attr 22</th>\n",
       "      <th>attr 23</th>\n",
       "      <th>attr 24</th>\n",
       "      <th>attr 25</th>\n",
       "      <th>attr 26</th>\n",
       "      <th>attr 27</th>\n",
       "      <th>attr 28</th>\n",
       "      <th>attr 29</th>\n",
       "      <th>attr 30</th>\n",
       "    </tr>\n",
       "  </thead>\n",
       "  <tbody>\n",
       "    <tr>\n",
       "      <th>311</th>\n",
       "      <td>89382601</td>\n",
       "      <td>B</td>\n",
       "      <td>0.219071</td>\n",
       "      <td>-0.869461</td>\n",
       "      <td>0.100100</td>\n",
       "      <td>0.108451</td>\n",
       "      <td>-1.456010</td>\n",
       "      <td>-1.288963</td>\n",
       "      <td>-0.887876</td>\n",
       "      <td>-0.749771</td>\n",
       "      <td>...</td>\n",
       "      <td>0.109234</td>\n",
       "      <td>-0.677525</td>\n",
       "      <td>-0.051283</td>\n",
       "      <td>-0.004535</td>\n",
       "      <td>-1.313421</td>\n",
       "      <td>-1.173202</td>\n",
       "      <td>-1.023089</td>\n",
       "      <td>-0.838624</td>\n",
       "      <td>-0.650778</td>\n",
       "      <td>-1.689643</td>\n",
       "    </tr>\n",
       "    <tr>\n",
       "      <th>536</th>\n",
       "      <td>91979701</td>\n",
       "      <td>M</td>\n",
       "      <td>0.116594</td>\n",
       "      <td>0.734783</td>\n",
       "      <td>0.147210</td>\n",
       "      <td>0.000500</td>\n",
       "      <td>0.573971</td>\n",
       "      <td>0.217813</td>\n",
       "      <td>0.751925</td>\n",
       "      <td>0.388004</td>\n",
       "      <td>...</td>\n",
       "      <td>-0.145736</td>\n",
       "      <td>1.403008</td>\n",
       "      <td>-0.032972</td>\n",
       "      <td>-0.215432</td>\n",
       "      <td>0.268675</td>\n",
       "      <td>0.151866</td>\n",
       "      <td>0.739054</td>\n",
       "      <td>0.349536</td>\n",
       "      <td>-0.382983</td>\n",
       "      <td>-0.004290</td>\n",
       "    </tr>\n",
       "    <tr>\n",
       "      <th>51</th>\n",
       "      <td>857373</td>\n",
       "      <td>B</td>\n",
       "      <td>-0.073290</td>\n",
       "      <td>-0.717455</td>\n",
       "      <td>-0.136311</td>\n",
       "      <td>-0.177880</td>\n",
       "      <td>-1.406767</td>\n",
       "      <td>-0.811301</td>\n",
       "      <td>-0.836877</td>\n",
       "      <td>-0.790882</td>\n",
       "      <td>...</td>\n",
       "      <td>-0.280848</td>\n",
       "      <td>-0.438231</td>\n",
       "      <td>-0.283830</td>\n",
       "      <td>-0.349656</td>\n",
       "      <td>-0.978994</td>\n",
       "      <td>-0.601556</td>\n",
       "      <td>-0.753381</td>\n",
       "      <td>-0.416597</td>\n",
       "      <td>-0.944077</td>\n",
       "      <td>-0.211152</td>\n",
       "    </tr>\n",
       "    <tr>\n",
       "      <th>285</th>\n",
       "      <td>8912521</td>\n",
       "      <td>B</td>\n",
       "      <td>-0.392778</td>\n",
       "      <td>-0.235715</td>\n",
       "      <td>-0.455273</td>\n",
       "      <td>-0.432534</td>\n",
       "      <td>-0.886410</td>\n",
       "      <td>-1.157343</td>\n",
       "      <td>-1.044728</td>\n",
       "      <td>-1.172792</td>\n",
       "      <td>...</td>\n",
       "      <td>-0.535819</td>\n",
       "      <td>-0.456510</td>\n",
       "      <td>-0.604879</td>\n",
       "      <td>-0.523247</td>\n",
       "      <td>-1.197658</td>\n",
       "      <td>-1.203509</td>\n",
       "      <td>-1.219397</td>\n",
       "      <td>-1.589812</td>\n",
       "      <td>-0.690628</td>\n",
       "      <td>-1.222617</td>\n",
       "    </tr>\n",
       "    <tr>\n",
       "      <th>512</th>\n",
       "      <td>915691</td>\n",
       "      <td>M</td>\n",
       "      <td>-0.145627</td>\n",
       "      <td>0.260057</td>\n",
       "      <td>-0.074507</td>\n",
       "      <td>-0.224321</td>\n",
       "      <td>1.073749</td>\n",
       "      <td>0.809258</td>\n",
       "      <td>0.729535</td>\n",
       "      <td>0.930730</td>\n",
       "      <td>...</td>\n",
       "      <td>0.098338</td>\n",
       "      <td>0.636933</td>\n",
       "      <td>0.241690</td>\n",
       "      <td>0.002213</td>\n",
       "      <td>1.100454</td>\n",
       "      <td>0.886961</td>\n",
       "      <td>1.147787</td>\n",
       "      <td>1.398137</td>\n",
       "      <td>1.030909</td>\n",
       "      <td>1.733731</td>\n",
       "    </tr>\n",
       "  </tbody>\n",
       "</table>\n",
       "<p>5 rows × 32 columns</p>\n",
       "</div>"
      ],
      "text/plain": [
       "           ID Class    attr 1    attr 2    attr 3    attr 4    attr 5  \\\n",
       "311  89382601     B  0.219071 -0.869461  0.100100  0.108451 -1.456010   \n",
       "536  91979701     M  0.116594  0.734783  0.147210  0.000500  0.573971   \n",
       "51     857373     B -0.073290 -0.717455 -0.136311 -0.177880 -1.406767   \n",
       "285   8912521     B -0.392778 -0.235715 -0.455273 -0.432534 -0.886410   \n",
       "512    915691     M -0.145627  0.260057 -0.074507 -0.224321  1.073749   \n",
       "\n",
       "       attr 6    attr 7    attr 8  ...   attr 21   attr 22   attr 23  \\\n",
       "311 -1.288963 -0.887876 -0.749771  ...  0.109234 -0.677525 -0.051283   \n",
       "536  0.217813  0.751925  0.388004  ... -0.145736  1.403008 -0.032972   \n",
       "51  -0.811301 -0.836877 -0.790882  ... -0.280848 -0.438231 -0.283830   \n",
       "285 -1.157343 -1.044728 -1.172792  ... -0.535819 -0.456510 -0.604879   \n",
       "512  0.809258  0.729535  0.930730  ...  0.098338  0.636933  0.241690   \n",
       "\n",
       "      attr 24   attr 25   attr 26   attr 27   attr 28   attr 29   attr 30  \n",
       "311 -0.004535 -1.313421 -1.173202 -1.023089 -0.838624 -0.650778 -1.689643  \n",
       "536 -0.215432  0.268675  0.151866  0.739054  0.349536 -0.382983 -0.004290  \n",
       "51  -0.349656 -0.978994 -0.601556 -0.753381 -0.416597 -0.944077 -0.211152  \n",
       "285 -0.523247 -1.197658 -1.203509 -1.219397 -1.589812 -0.690628 -1.222617  \n",
       "512  0.002213  1.100454  0.886961  1.147787  1.398137  1.030909  1.733731  \n",
       "\n",
       "[5 rows x 32 columns]"
      ]
     },
     "execution_count": 9,
     "metadata": {},
     "output_type": "execute_result"
    }
   ],
   "source": [
    "# skip applying 'z-score' on class, Id columns\n",
    "cols = test_data.columns[2:]\n",
    "x = test_data[cols]# skip applying 'z-score' on constant columns\n",
    "x_scaled = x.apply(lambda x: x if np.std(x) == 0 else zscore(x)) \n",
    "temp_data = pd.DataFrame(x_scaled, columns = cols)\n",
    "temp_data.insert(0,'ID',test_data.iloc[:,0].values, True)\n",
    "temp_data.insert(1,'Class',test_data.iloc[:,1].values, True)\n",
    "test_data = temp_data\n",
    "test_data.head()"
   ]
  },
  {
   "cell_type": "markdown",
   "metadata": {},
   "source": [
    "### Conclusion\n",
    "- The result data spread on less scale, so values are more close to each other.\n",
    "- A value is exactly equal to the mean of all the values of the feature, it will be normalized to 0. If it is below the mean, it will be a negative number, and if it is above the mean it will be a positive number.\n"
   ]
  },
  {
   "cell_type": "markdown",
   "metadata": {},
   "source": [
    "# Feature Projection"
   ]
  },
  {
   "cell_type": "code",
   "execution_count": 10,
   "metadata": {},
   "outputs": [],
   "source": [
    "def correlation_heatmap(data):\n",
    "    correlations = data.corr(method='pearson')\n",
    "    fig, ax = plt.subplots(figsize=(20,20))\n",
    "    sns.heatmap(correlations, vmax=1.0, center=0, fmt='.2f',\n",
    "                square=True, linewidths=.5, annot=True, cbar_kws={\"shrink\": .70})\n",
    "    plt.show();"
   ]
  },
  {
   "cell_type": "code",
   "execution_count": 11,
   "metadata": {},
   "outputs": [],
   "source": [
    "# initiate columns names for pca and feture selection\n",
    "pca_columns =[] \n",
    "for i in range(1,11):\n",
    "    pca_columns.append('principal component {}'.format(i))"
   ]
  },
  {
   "cell_type": "markdown",
   "metadata": {},
   "source": [
    "## Train data"
   ]
  },
  {
   "cell_type": "code",
   "execution_count": 12,
   "metadata": {},
   "outputs": [],
   "source": [
    "# pass desired sum of varince ratio we need to be captured \n",
    "pca = PCA(0.95)\n",
    "principalComponents = pca.fit_transform(train_data.iloc[:,2:])"
   ]
  },
  {
   "cell_type": "code",
   "execution_count": 13,
   "metadata": {},
   "outputs": [
    {
     "data": {
      "text/plain": [
       "10"
      ]
     },
     "execution_count": 13,
     "metadata": {},
     "output_type": "execute_result"
    }
   ],
   "source": [
    "pca.n_components_"
   ]
  },
  {
   "cell_type": "code",
   "execution_count": 14,
   "metadata": {},
   "outputs": [
    {
     "data": {
      "image/png": "[encoded data removed]",
      "text/plain": [
       "<Figure size 1440x1440 with 2 Axes>"
      ]
     },
     "metadata": {
      "needs_background": "light"
     },
     "output_type": "display_data"
    }
   ],
   "source": [
    "pca_data = pd.DataFrame(principalComponents, columns = pca_columns)\n",
    "pca_data.insert(0,'ID',train_data.iloc[:,0].values, True)\n",
    "pca_data.insert(1,'Class',train_data.iloc[:,1].values, True)\n",
    "train_data = pca_data\n",
    "correlation_heatmap(pca_data)"
   ]
  },
  {
   "cell_type": "markdown",
   "metadata": {},
   "source": [
    "## Test data"
   ]
  },
  {
   "cell_type": "code",
   "execution_count": 15,
   "metadata": {},
   "outputs": [],
   "source": [
    "# pass desired sum of varince ratio we need to be captured \n",
    "pca = PCA(0.95)\n",
    "principalComponents = pca.fit_transform(test_data.iloc[:,2:])"
   ]
  },
  {
   "cell_type": "code",
   "execution_count": 16,
   "metadata": {},
   "outputs": [
    {
     "data": {
      "text/plain": [
       "10"
      ]
     },
     "execution_count": 16,
     "metadata": {},
     "output_type": "execute_result"
    }
   ],
   "source": [
    "pca.n_components_"
   ]
  },
  {
   "cell_type": "code",
   "execution_count": 17,
   "metadata": {},
   "outputs": [
    {
     "data": {
      "image/png": "[encoded data removed]",
      "text/plain": [
       "<Figure size 1440x1440 with 2 Axes>"
      ]
     },
     "metadata": {
      "needs_background": "light"
     },
     "output_type": "display_data"
    }
   ],
   "source": [
    "pca_data = pd.DataFrame(principalComponents, columns = pca_columns)\n",
    "pca_data.insert(0,'ID',test_data.iloc[:,0].values, True)\n",
    "pca_data.insert(1,'Class',test_data.iloc[:,1].values, True)\n",
    "test_data = pca_data\n",
    "correlation_heatmap(pca_data)"
   ]
  },
  {
   "cell_type": "markdown",
   "metadata": {},
   "source": [
    "## Conclusion\n",
    "- Principal component analysis convert a set of observations of correlated variables into a set of values of linearly uncorrelated variables called principal components\n",
    "- less than half of the attributes can describe the data with 0.95 percent.\n"
   ]
  },
  {
   "cell_type": "markdown",
   "metadata": {},
   "source": [
    "# Classification"
   ]
  },
  {
   "cell_type": "markdown",
   "metadata": {},
   "source": [
    "## K-nearest Neighbours"
   ]
  },
  {
   "cell_type": "markdown",
   "metadata": {},
   "source": [
    "### select best n_neighbors"
   ]
  },
  {
   "cell_type": "code",
   "execution_count": 18,
   "metadata": {},
   "outputs": [],
   "source": [
    "def KNNC_param_selection(X, y):\n",
    "    neighbors = [3, 5, 7, 10, 15, 20]\n",
    "    KNNC = KNeighborsClassifier()\n",
    "    param_grid = {'n_neighbors': neighbors}\n",
    "    grid_search = GridSearchCV(KNNC, param_grid, cv=10)\n",
    "    grid_search.fit(X, y)\n",
    "    grid_search.best_params_\n",
    "    return grid_search.best_params_"
   ]
  },
  {
   "cell_type": "code",
   "execution_count": 19,
   "metadata": {},
   "outputs": [
    {
     "data": {
      "text/plain": [
       "{'n_neighbors': 7}"
      ]
     },
     "execution_count": 19,
     "metadata": {},
     "output_type": "execute_result"
    }
   ],
   "source": [
    "KNNC_param_selection(train_data.iloc[:,2:], train_data.iloc[:,1])"
   ]
  },
  {
   "cell_type": "markdown",
   "metadata": {},
   "source": [
    "- n_neighbors = 7 is the best "
   ]
  },
  {
   "cell_type": "markdown",
   "metadata": {},
   "source": [
    "### train the model"
   ]
  },
  {
   "cell_type": "code",
   "execution_count": 82,
   "metadata": {},
   "outputs": [
    {
     "data": {
      "text/plain": [
       "KNeighborsClassifier(algorithm='auto', leaf_size=30, metric='minkowski',\n",
       "           metric_params=None, n_jobs=None, n_neighbors=7, p=2,\n",
       "           weights='uniform')"
      ]
     },
     "execution_count": 82,
     "metadata": {},
     "output_type": "execute_result"
    }
   ],
   "source": [
    "KNNC = KNeighborsClassifier(n_neighbors = 7)\n",
    "KNNC.fit(train_data.iloc[:,2:], train_data.iloc[:,1])"
   ]
  },
  {
   "cell_type": "code",
   "execution_count": 83,
   "metadata": {},
   "outputs": [],
   "source": [
    "y_pred = KNNC.predict(test_data.iloc[:,2:])"
   ]
  },
  {
   "cell_type": "markdown",
   "metadata": {},
   "source": [
    "### Evaluate model "
   ]
  },
  {
   "cell_type": "code",
   "execution_count": 84,
   "metadata": {},
   "outputs": [],
   "source": [
    "y_true = test_data.iloc[:,1]\n",
    "precision,recall,fscore, support = precision_recall_fscore_support(y_true, y_pred, labels=['M', 'B'])"
   ]
  },
  {
   "cell_type": "code",
   "execution_count": 85,
   "metadata": {},
   "outputs": [
    {
     "name": "stdout",
     "output_type": "stream",
     "text": [
      "precision:  0.9642857142857143 for \"M\" class , 0.9130434782608695 for \"B\" class\n",
      "recall:  0.84375 for \"M\" class , 0.9813084112149533 for \"B\" class\n",
      "fscore:  0.8999999999999999 for \"M\" class , 0.9459459459459459 for \"B\" class\n"
     ]
    }
   ],
   "source": [
    "print('precision:  {0} for \"M\" class , {1} for \"B\" class'.format(precision[0], precision[1]))\n",
    "print('recall:  {0} for \"M\" class , {1} for \"B\" class'.format(recall[0], recall[1]))\n",
    "print('fscore:  {0} for \"M\" class , {1} for \"B\" class'.format(fscore[0], fscore[1]))"
   ]
  },
  {
   "cell_type": "markdown",
   "metadata": {},
   "source": [
    "### Confusion matrix"
   ]
  },
  {
   "cell_type": "code",
   "execution_count": 86,
   "metadata": {},
   "outputs": [
    {
     "data": {
      "text/plain": [
       "array([[ 54,  10],\n",
       "       [  2, 105]])"
      ]
     },
     "execution_count": 86,
     "metadata": {},
     "output_type": "execute_result"
    }
   ],
   "source": [
    "cm = confusion_matrix(y_true, y_pred, labels=['M', 'B'])\n",
    "cm"
   ]
  },
  {
   "cell_type": "code",
   "execution_count": 87,
   "metadata": {},
   "outputs": [
    {
     "data": {
      "image/png": "[encoded data removed]",
      "text/plain": [
       "<Figure size 432x288 with 2 Axes>"
      ]
     },
     "metadata": {
      "needs_background": "light"
     },
     "output_type": "display_data"
    }
   ],
   "source": [
    "ax= plt.subplot()\n",
    "sns.heatmap(cm, annot=True, ax = ax); #annot=True to annotate cells\n",
    "\n",
    "# labels, title and ticks\n",
    "ax.set_xlabel('Predicted labels');ax.set_ylabel('True labels'); \n",
    "ax.set_title('Confusion Matrix'); \n",
    "ax.xaxis.set_ticklabels(['M class', 'B class']); ax.yaxis.set_ticklabels(['M class', 'B class']);"
   ]
  },
  {
   "cell_type": "markdown",
   "metadata": {},
   "source": [
    "### For different n_neighbors  = 2"
   ]
  },
  {
   "cell_type": "code",
   "execution_count": 26,
   "metadata": {},
   "outputs": [
    {
     "data": {
      "text/plain": [
       "KNeighborsClassifier(algorithm='auto', leaf_size=30, metric='minkowski',\n",
       "           metric_params=None, n_jobs=None, n_neighbors=2, p=2,\n",
       "           weights='uniform')"
      ]
     },
     "execution_count": 26,
     "metadata": {},
     "output_type": "execute_result"
    }
   ],
   "source": [
    "KNNC = KNeighborsClassifier(n_neighbors = 2)\n",
    "KNNC.fit(train_data.iloc[:,2:], train_data.iloc[:,1])"
   ]
  },
  {
   "cell_type": "code",
   "execution_count": 27,
   "metadata": {},
   "outputs": [],
   "source": [
    "y_pred = KNNC.predict(test_data.iloc[:,2:])"
   ]
  },
  {
   "cell_type": "markdown",
   "metadata": {},
   "source": [
    "### Evaluate model "
   ]
  },
  {
   "cell_type": "code",
   "execution_count": 28,
   "metadata": {},
   "outputs": [],
   "source": [
    "y_true = test_data.iloc[:,1]\n",
    "precision,recall,fscore, support = precision_recall_fscore_support(y_true, y_pred, labels=['M', 'B'])"
   ]
  },
  {
   "cell_type": "code",
   "execution_count": 29,
   "metadata": {},
   "outputs": [
    {
     "name": "stdout",
     "output_type": "stream",
     "text": [
      "precision:  0.9803921568627451 for \"M\" class , 0.8833333333333333 for \"B\" class\n",
      "recall:  0.78125 for \"M\" class , 0.9906542056074766 for \"B\" class\n",
      "fscore:  0.8695652173913042 for \"M\" class , 0.933920704845815 for \"B\" class\n"
     ]
    }
   ],
   "source": [
    "print('precision:  {0} for \"M\" class , {1} for \"B\" class'.format(precision[0], precision[1]))\n",
    "print('recall:  {0} for \"M\" class , {1} for \"B\" class'.format(recall[0], recall[1]))\n",
    "print('fscore:  {0} for \"M\" class , {1} for \"B\" class'.format(fscore[0], fscore[1]))"
   ]
  },
  {
   "cell_type": "markdown",
   "metadata": {},
   "source": [
    "### For different n_neighbors  = 20"
   ]
  },
  {
   "cell_type": "code",
   "execution_count": 30,
   "metadata": {},
   "outputs": [
    {
     "data": {
      "text/plain": [
       "KNeighborsClassifier(algorithm='auto', leaf_size=30, metric='minkowski',\n",
       "           metric_params=None, n_jobs=None, n_neighbors=20, p=2,\n",
       "           weights='uniform')"
      ]
     },
     "execution_count": 30,
     "metadata": {},
     "output_type": "execute_result"
    }
   ],
   "source": [
    "KNNC = KNeighborsClassifier(n_neighbors = 20)\n",
    "KNNC.fit(train_data.iloc[:,2:], train_data.iloc[:,1])"
   ]
  },
  {
   "cell_type": "code",
   "execution_count": 31,
   "metadata": {},
   "outputs": [],
   "source": [
    "y_pred = KNNC.predict(test_data.iloc[:,2:])"
   ]
  },
  {
   "cell_type": "markdown",
   "metadata": {},
   "source": [
    "### Evaluate model "
   ]
  },
  {
   "cell_type": "code",
   "execution_count": 32,
   "metadata": {},
   "outputs": [],
   "source": [
    "y_true = test_data.iloc[:,1]\n",
    "precision,recall,fscore, support = precision_recall_fscore_support(y_true, y_pred, labels=['M', 'B'])"
   ]
  },
  {
   "cell_type": "code",
   "execution_count": 33,
   "metadata": {},
   "outputs": [
    {
     "name": "stdout",
     "output_type": "stream",
     "text": [
      "precision:  0.9824561403508771 for \"M\" class , 0.9298245614035088 for \"B\" class\n",
      "recall:  0.875 for \"M\" class , 0.9906542056074766 for \"B\" class\n",
      "fscore:  0.9256198347107438 for \"M\" class , 0.9592760180995474 for \"B\" class\n"
     ]
    }
   ],
   "source": [
    "print('precision:  {0} for \"M\" class , {1} for \"B\" class'.format(precision[0], precision[1]))\n",
    "print('recall:  {0} for \"M\" class , {1} for \"B\" class'.format(recall[0], recall[1]))\n",
    "print('fscore:  {0} for \"M\" class , {1} for \"B\" class'.format(fscore[0], fscore[1]))"
   ]
  },
  {
   "cell_type": "markdown",
   "metadata": {},
   "source": [
    "### less valuse for Evaluation matrices than n_neighbors equal = 7, so paramter tunning helped to get better accurcy  "
   ]
  },
  {
   "cell_type": "markdown",
   "metadata": {},
   "source": [
    "## Linear SVM"
   ]
  },
  {
   "cell_type": "markdown",
   "metadata": {},
   "source": [
    "### select best C "
   ]
  },
  {
   "cell_type": "code",
   "execution_count": 34,
   "metadata": {},
   "outputs": [],
   "source": [
    "def LSVC_param_selection(X, y):\n",
    "    c = [0.1, 0.15 ,0.25, 0.3, 0.5, 0.7, 1.0, 1.2, 1.5]\n",
    "    LSVC = LinearSVC()\n",
    "    param_grid = {'C': c}\n",
    "    grid_search = GridSearchCV(LSVC, param_grid, cv=10)\n",
    "    grid_search.fit(X, y)\n",
    "    grid_search.best_params_\n",
    "    return grid_search.best_params_"
   ]
  },
  {
   "cell_type": "code",
   "execution_count": 35,
   "metadata": {},
   "outputs": [
    {
     "name": "stderr",
     "output_type": "stream",
     "text": [
      "/home/magho/anaconda3/lib/python3.7/site-packages/sklearn/svm/base.py:931: ConvergenceWarning: Liblinear failed to converge, increase the number of iterations.\n",
      "  \"the number of iterations.\", ConvergenceWarning)\n",
      "/home/magho/anaconda3/lib/python3.7/site-packages/sklearn/svm/base.py:931: ConvergenceWarning: Liblinear failed to converge, increase the number of iterations.\n",
      "  \"the number of iterations.\", ConvergenceWarning)\n",
      "/home/magho/anaconda3/lib/python3.7/site-packages/sklearn/svm/base.py:931: ConvergenceWarning: Liblinear failed to converge, increase the number of iterations.\n",
      "  \"the number of iterations.\", ConvergenceWarning)\n",
      "/home/magho/anaconda3/lib/python3.7/site-packages/sklearn/svm/base.py:931: ConvergenceWarning: Liblinear failed to converge, increase the number of iterations.\n",
      "  \"the number of iterations.\", ConvergenceWarning)\n",
      "/home/magho/anaconda3/lib/python3.7/site-packages/sklearn/svm/base.py:931: ConvergenceWarning: Liblinear failed to converge, increase the number of iterations.\n",
      "  \"the number of iterations.\", ConvergenceWarning)\n",
      "/home/magho/anaconda3/lib/python3.7/site-packages/sklearn/svm/base.py:931: ConvergenceWarning: Liblinear failed to converge, increase the number of iterations.\n",
      "  \"the number of iterations.\", ConvergenceWarning)\n",
      "/home/magho/anaconda3/lib/python3.7/site-packages/sklearn/svm/base.py:931: ConvergenceWarning: Liblinear failed to converge, increase the number of iterations.\n",
      "  \"the number of iterations.\", ConvergenceWarning)\n",
      "/home/magho/anaconda3/lib/python3.7/site-packages/sklearn/svm/base.py:931: ConvergenceWarning: Liblinear failed to converge, increase the number of iterations.\n",
      "  \"the number of iterations.\", ConvergenceWarning)\n",
      "/home/magho/anaconda3/lib/python3.7/site-packages/sklearn/svm/base.py:931: ConvergenceWarning: Liblinear failed to converge, increase the number of iterations.\n",
      "  \"the number of iterations.\", ConvergenceWarning)\n",
      "/home/magho/anaconda3/lib/python3.7/site-packages/sklearn/svm/base.py:931: ConvergenceWarning: Liblinear failed to converge, increase the number of iterations.\n",
      "  \"the number of iterations.\", ConvergenceWarning)\n",
      "/home/magho/anaconda3/lib/python3.7/site-packages/sklearn/svm/base.py:931: ConvergenceWarning: Liblinear failed to converge, increase the number of iterations.\n",
      "  \"the number of iterations.\", ConvergenceWarning)\n",
      "/home/magho/anaconda3/lib/python3.7/site-packages/sklearn/svm/base.py:931: ConvergenceWarning: Liblinear failed to converge, increase the number of iterations.\n",
      "  \"the number of iterations.\", ConvergenceWarning)\n",
      "/home/magho/anaconda3/lib/python3.7/site-packages/sklearn/svm/base.py:931: ConvergenceWarning: Liblinear failed to converge, increase the number of iterations.\n",
      "  \"the number of iterations.\", ConvergenceWarning)\n",
      "/home/magho/anaconda3/lib/python3.7/site-packages/sklearn/svm/base.py:931: ConvergenceWarning: Liblinear failed to converge, increase the number of iterations.\n",
      "  \"the number of iterations.\", ConvergenceWarning)\n",
      "/home/magho/anaconda3/lib/python3.7/site-packages/sklearn/svm/base.py:931: ConvergenceWarning: Liblinear failed to converge, increase the number of iterations.\n",
      "  \"the number of iterations.\", ConvergenceWarning)\n",
      "/home/magho/anaconda3/lib/python3.7/site-packages/sklearn/svm/base.py:931: ConvergenceWarning: Liblinear failed to converge, increase the number of iterations.\n",
      "  \"the number of iterations.\", ConvergenceWarning)\n",
      "/home/magho/anaconda3/lib/python3.7/site-packages/sklearn/svm/base.py:931: ConvergenceWarning: Liblinear failed to converge, increase the number of iterations.\n",
      "  \"the number of iterations.\", ConvergenceWarning)\n",
      "/home/magho/anaconda3/lib/python3.7/site-packages/sklearn/svm/base.py:931: ConvergenceWarning: Liblinear failed to converge, increase the number of iterations.\n",
      "  \"the number of iterations.\", ConvergenceWarning)\n"
     ]
    },
    {
     "data": {
      "text/plain": [
       "{'C': 0.1}"
      ]
     },
     "execution_count": 35,
     "metadata": {},
     "output_type": "execute_result"
    }
   ],
   "source": [
    "LSVC_param_selection(train_data.iloc[:,2:], train_data.iloc[:,1])"
   ]
  },
  {
   "cell_type": "markdown",
   "metadata": {},
   "source": [
    "- C = 0.1 is the best "
   ]
  },
  {
   "cell_type": "markdown",
   "metadata": {},
   "source": [
    "### train the model"
   ]
  },
  {
   "cell_type": "code",
   "execution_count": 36,
   "metadata": {},
   "outputs": [
    {
     "data": {
      "text/plain": [
       "LinearSVC(C=0.1, class_weight=None, dual=True, fit_intercept=True,\n",
       "     intercept_scaling=1, loss='squared_hinge', max_iter=1000,\n",
       "     multi_class='ovr', penalty='l2', random_state=None, tol=0.0001,\n",
       "     verbose=0)"
      ]
     },
     "execution_count": 36,
     "metadata": {},
     "output_type": "execute_result"
    }
   ],
   "source": [
    "LSVC = LinearSVC(C = 0.1)\n",
    "LSVC.fit(train_data.iloc[:,2:], train_data.iloc[:,1])"
   ]
  },
  {
   "cell_type": "code",
   "execution_count": 37,
   "metadata": {},
   "outputs": [],
   "source": [
    "y_pred = LSVC.predict(test_data.iloc[:,2:])"
   ]
  },
  {
   "cell_type": "markdown",
   "metadata": {},
   "source": [
    "### Evaluate model "
   ]
  },
  {
   "cell_type": "code",
   "execution_count": 38,
   "metadata": {},
   "outputs": [],
   "source": [
    "y_true = test_data.iloc[:,1]\n",
    "precision,recall,fscore, support = precision_recall_fscore_support(y_true, y_pred, labels=['M', 'B'])"
   ]
  },
  {
   "cell_type": "code",
   "execution_count": 39,
   "metadata": {},
   "outputs": [
    {
     "name": "stdout",
     "output_type": "stream",
     "text": [
      "precision:  0.9365079365079365 for \"M\" class , 0.9537037037037037 for \"B\" class\n",
      "recall:  0.921875 for \"M\" class , 0.9626168224299065 for \"B\" class\n",
      "fscore:  0.9291338582677166 for \"M\" class , 0.958139534883721 for \"B\" class\n"
     ]
    }
   ],
   "source": [
    "print('precision:  {0} for \"M\" class , {1} for \"B\" class'.format(precision[0], precision[1]))\n",
    "print('recall:  {0} for \"M\" class , {1} for \"B\" class'.format(recall[0], recall[1]))\n",
    "print('fscore:  {0} for \"M\" class , {1} for \"B\" class'.format(fscore[0], fscore[1]))"
   ]
  },
  {
   "cell_type": "markdown",
   "metadata": {},
   "source": [
    "### Confusion matrix"
   ]
  },
  {
   "cell_type": "code",
   "execution_count": 40,
   "metadata": {},
   "outputs": [
    {
     "data": {
      "text/plain": [
       "array([[ 59,   5],\n",
       "       [  4, 103]])"
      ]
     },
     "execution_count": 40,
     "metadata": {},
     "output_type": "execute_result"
    }
   ],
   "source": [
    "cm = confusion_matrix(y_true, y_pred, labels=['M', 'B'])\n",
    "cm"
   ]
  },
  {
   "cell_type": "code",
   "execution_count": 41,
   "metadata": {},
   "outputs": [
    {
     "data": {
      "image/png": "[encoded data removed]",
      "text/plain": [
       "<Figure size 432x288 with 2 Axes>"
      ]
     },
     "metadata": {
      "needs_background": "light"
     },
     "output_type": "display_data"
    }
   ],
   "source": [
    "ax= plt.subplot()\n",
    "sns.heatmap(cm, annot=True, ax = ax); #annot=True to annotate cells\n",
    "\n",
    "# labels, title and ticks\n",
    "ax.set_xlabel('Predicted labels');ax.set_ylabel('True labels'); \n",
    "ax.set_title('Confusion Matrix'); \n",
    "ax.xaxis.set_ticklabels(['M class', 'B class']); ax.yaxis.set_ticklabels(['M class', 'B class']);"
   ]
  },
  {
   "cell_type": "markdown",
   "metadata": {},
   "source": [
    "### For different C  = 2"
   ]
  },
  {
   "cell_type": "code",
   "execution_count": 42,
   "metadata": {},
   "outputs": [
    {
     "name": "stderr",
     "output_type": "stream",
     "text": [
      "/home/magho/anaconda3/lib/python3.7/site-packages/sklearn/svm/base.py:931: ConvergenceWarning: Liblinear failed to converge, increase the number of iterations.\n",
      "  \"the number of iterations.\", ConvergenceWarning)\n"
     ]
    },
    {
     "data": {
      "text/plain": [
       "LinearSVC(C=2, class_weight=None, dual=True, fit_intercept=True,\n",
       "     intercept_scaling=1, loss='squared_hinge', max_iter=1000,\n",
       "     multi_class='ovr', penalty='l2', random_state=None, tol=0.0001,\n",
       "     verbose=0)"
      ]
     },
     "execution_count": 42,
     "metadata": {},
     "output_type": "execute_result"
    }
   ],
   "source": [
    "LSVC = LinearSVC(C = 2)\n",
    "LSVC.fit(train_data.iloc[:,2:], train_data.iloc[:,1])"
   ]
  },
  {
   "cell_type": "code",
   "execution_count": 43,
   "metadata": {},
   "outputs": [],
   "source": [
    "y_pred = LSVC.predict(test_data.iloc[:,2:])"
   ]
  },
  {
   "cell_type": "markdown",
   "metadata": {},
   "source": [
    "### Evaluate model "
   ]
  },
  {
   "cell_type": "code",
   "execution_count": 44,
   "metadata": {},
   "outputs": [],
   "source": [
    "y_true = test_data.iloc[:,1]\n",
    "precision,recall,fscore, support = precision_recall_fscore_support(y_true, y_pred, labels=['M', 'B'])"
   ]
  },
  {
   "cell_type": "code",
   "execution_count": 45,
   "metadata": {},
   "outputs": [
    {
     "name": "stdout",
     "output_type": "stream",
     "text": [
      "precision:  0.9365079365079365 for \"M\" class , 0.9537037037037037 for \"B\" class\n",
      "recall:  0.921875 for \"M\" class , 0.9626168224299065 for \"B\" class\n",
      "fscore:  0.9291338582677166 for \"M\" class , 0.958139534883721 for \"B\" class\n"
     ]
    }
   ],
   "source": [
    "print('precision:  {0} for \"M\" class , {1} for \"B\" class'.format(precision[0], precision[1]))\n",
    "print('recall:  {0} for \"M\" class , {1} for \"B\" class'.format(recall[0], recall[1]))\n",
    "print('fscore:  {0} for \"M\" class , {1} for \"B\" class'.format(fscore[0], fscore[1]))"
   ]
  },
  {
   "cell_type": "markdown",
   "metadata": {},
   "source": [
    "### For different C  = 0.01"
   ]
  },
  {
   "cell_type": "code",
   "execution_count": 46,
   "metadata": {},
   "outputs": [
    {
     "data": {
      "text/plain": [
       "LinearSVC(C=0.01, class_weight=None, dual=True, fit_intercept=True,\n",
       "     intercept_scaling=1, loss='squared_hinge', max_iter=1000,\n",
       "     multi_class='ovr', penalty='l2', random_state=None, tol=0.0001,\n",
       "     verbose=0)"
      ]
     },
     "execution_count": 46,
     "metadata": {},
     "output_type": "execute_result"
    }
   ],
   "source": [
    "LSVC = LinearSVC(C = 0.01)\n",
    "LSVC.fit(train_data.iloc[:,2:], train_data.iloc[:,1])"
   ]
  },
  {
   "cell_type": "code",
   "execution_count": 47,
   "metadata": {},
   "outputs": [],
   "source": [
    "y_pred = LSVC.predict(test_data.iloc[:,2:])"
   ]
  },
  {
   "cell_type": "markdown",
   "metadata": {},
   "source": [
    "### Evaluate model "
   ]
  },
  {
   "cell_type": "code",
   "execution_count": 48,
   "metadata": {},
   "outputs": [],
   "source": [
    "y_true = test_data.iloc[:,1]\n",
    "precision,recall,fscore, support = precision_recall_fscore_support(y_true, y_pred, labels=['M', 'B'])"
   ]
  },
  {
   "cell_type": "code",
   "execution_count": 49,
   "metadata": {},
   "outputs": [
    {
     "name": "stdout",
     "output_type": "stream",
     "text": [
      "precision:  0.9365079365079365 for \"M\" class , 0.9537037037037037 for \"B\" class\n",
      "recall:  0.921875 for \"M\" class , 0.9626168224299065 for \"B\" class\n",
      "fscore:  0.9291338582677166 for \"M\" class , 0.958139534883721 for \"B\" class\n"
     ]
    }
   ],
   "source": [
    "print('precision:  {0} for \"M\" class , {1} for \"B\" class'.format(precision[0], precision[1]))\n",
    "print('recall:  {0} for \"M\" class , {1} for \"B\" class'.format(recall[0], recall[1]))\n",
    "print('fscore:  {0} for \"M\" class , {1} for \"B\" class'.format(fscore[0], fscore[1]))"
   ]
  },
  {
   "cell_type": "markdown",
   "metadata": {},
   "source": [
    "### less valuse for Evaluation matrices than C equal = 0.25 , so paramter tunning helped to get better accurcy  "
   ]
  },
  {
   "cell_type": "markdown",
   "metadata": {},
   "source": [
    "## non Linear SVM"
   ]
  },
  {
   "cell_type": "markdown",
   "metadata": {},
   "source": [
    "### select best C, gamma "
   ]
  },
  {
   "cell_type": "code",
   "execution_count": 50,
   "metadata": {},
   "outputs": [],
   "source": [
    "def SVC_param_selection(X, y):\n",
    "    c = [0.1, 0.25 ,0.25, 0.3, 0.5, 0.7, 1.0, 1.2, 1.5]\n",
    "    gamma = [0.1, 0.25 ,0.25, 0.3, 0.5, 0.7, 1.0, 1.2, 1.5]\n",
    "    NLSVC = SVC()\n",
    "    param_grid = {'C': c, 'gamma' : gamma}\n",
    "    grid_search = GridSearchCV(NLSVC, param_grid, cv=10)\n",
    "    grid_search.fit(X, y)\n",
    "    grid_search.best_params_\n",
    "    return grid_search.best_params_"
   ]
  },
  {
   "cell_type": "code",
   "execution_count": 51,
   "metadata": {},
   "outputs": [
    {
     "data": {
      "text/plain": [
       "{'C': 1.2, 'gamma': 0.1}"
      ]
     },
     "execution_count": 51,
     "metadata": {},
     "output_type": "execute_result"
    }
   ],
   "source": [
    "SVC_param_selection(train_data.iloc[:,2:], train_data.iloc[:,1])"
   ]
  },
  {
   "cell_type": "markdown",
   "metadata": {},
   "source": [
    "- C = 0.1 is the best \n",
    "- gamma = 0.1 is the best "
   ]
  },
  {
   "cell_type": "markdown",
   "metadata": {},
   "source": [
    "### train the model"
   ]
  },
  {
   "cell_type": "code",
   "execution_count": 52,
   "metadata": {},
   "outputs": [
    {
     "data": {
      "text/plain": [
       "SVC(C=0.1, cache_size=200, class_weight=None, coef0=0.0,\n",
       "  decision_function_shape='ovr', degree=3, gamma=0.1, kernel='rbf',\n",
       "  max_iter=-1, probability=False, random_state=None, shrinking=True,\n",
       "  tol=0.001, verbose=False)"
      ]
     },
     "execution_count": 52,
     "metadata": {},
     "output_type": "execute_result"
    }
   ],
   "source": [
    "NLSVC = SVC(C = 0.1, gamma = 0.1)\n",
    "NLSVC.fit(train_data.iloc[:,2:], train_data.iloc[:,1])"
   ]
  },
  {
   "cell_type": "code",
   "execution_count": 53,
   "metadata": {},
   "outputs": [],
   "source": [
    "y_pred = NLSVC.predict(test_data.iloc[:,2:])"
   ]
  },
  {
   "cell_type": "markdown",
   "metadata": {},
   "source": [
    "### Evaluate model "
   ]
  },
  {
   "cell_type": "code",
   "execution_count": 54,
   "metadata": {},
   "outputs": [],
   "source": [
    "y_true = test_data.iloc[:,1]\n",
    "precision,recall,fscore, support = precision_recall_fscore_support(y_true, y_pred, labels=['M', 'B'])"
   ]
  },
  {
   "cell_type": "code",
   "execution_count": 55,
   "metadata": {},
   "outputs": [
    {
     "name": "stdout",
     "output_type": "stream",
     "text": [
      "precision:  0.9193548387096774 for \"M\" class , 0.9357798165137615 for \"B\" class\n",
      "recall:  0.890625 for \"M\" class , 0.9532710280373832 for \"B\" class\n",
      "fscore:  0.9047619047619047 for \"M\" class , 0.9444444444444445 for \"B\" class\n"
     ]
    }
   ],
   "source": [
    "print('precision:  {0} for \"M\" class , {1} for \"B\" class'.format(precision[0], precision[1]))\n",
    "print('recall:  {0} for \"M\" class , {1} for \"B\" class'.format(recall[0], recall[1]))\n",
    "print('fscore:  {0} for \"M\" class , {1} for \"B\" class'.format(fscore[0], fscore[1]))"
   ]
  },
  {
   "cell_type": "markdown",
   "metadata": {},
   "source": [
    "### Confusion matrix"
   ]
  },
  {
   "cell_type": "code",
   "execution_count": 56,
   "metadata": {},
   "outputs": [
    {
     "data": {
      "text/plain": [
       "array([[ 57,   7],\n",
       "       [  5, 102]])"
      ]
     },
     "execution_count": 56,
     "metadata": {},
     "output_type": "execute_result"
    }
   ],
   "source": [
    "cm = confusion_matrix(y_true, y_pred, labels=['M', 'B'])\n",
    "cm"
   ]
  },
  {
   "cell_type": "code",
   "execution_count": 57,
   "metadata": {},
   "outputs": [
    {
     "data": {
      "image/png": "[encoded data removed]",
      "text/plain": [
       "<Figure size 432x288 with 2 Axes>"
      ]
     },
     "metadata": {
      "needs_background": "light"
     },
     "output_type": "display_data"
    }
   ],
   "source": [
    "ax= plt.subplot()\n",
    "sns.heatmap(cm, annot=True, ax = ax); #annot=True to annotate cells\n",
    "\n",
    "# labels, title and ticks\n",
    "ax.set_xlabel('Predicted labels');ax.set_ylabel('True labels'); \n",
    "ax.set_title('Confusion Matrix'); \n",
    "ax.xaxis.set_ticklabels(['M class', 'B class']); ax.yaxis.set_ticklabels(['M class', 'B class']);"
   ]
  },
  {
   "cell_type": "markdown",
   "metadata": {},
   "source": [
    "### For different C  = 2 , gamma = 1.0"
   ]
  },
  {
   "cell_type": "code",
   "execution_count": 58,
   "metadata": {},
   "outputs": [
    {
     "data": {
      "text/plain": [
       "SVC(C=2, cache_size=200, class_weight=None, coef0=0.0,\n",
       "  decision_function_shape='ovr', degree=3, gamma=1, kernel='rbf',\n",
       "  max_iter=-1, probability=False, random_state=None, shrinking=True,\n",
       "  tol=0.001, verbose=False)"
      ]
     },
     "execution_count": 58,
     "metadata": {},
     "output_type": "execute_result"
    }
   ],
   "source": [
    "NLSVC = SVC(C = 2, gamma = 1)\n",
    "NLSVC.fit(train_data.iloc[:,2:], train_data.iloc[:,1])"
   ]
  },
  {
   "cell_type": "code",
   "execution_count": 59,
   "metadata": {},
   "outputs": [],
   "source": [
    "y_pred = NLSVC.predict(test_data.iloc[:,2:])"
   ]
  },
  {
   "cell_type": "markdown",
   "metadata": {},
   "source": [
    "### Evaluate model "
   ]
  },
  {
   "cell_type": "code",
   "execution_count": 60,
   "metadata": {},
   "outputs": [],
   "source": [
    "y_true = test_data.iloc[:,1]\n",
    "precision,recall,fscore, support = precision_recall_fscore_support(y_true, y_pred, labels=['M', 'B'])"
   ]
  },
  {
   "cell_type": "code",
   "execution_count": 61,
   "metadata": {},
   "outputs": [
    {
     "name": "stdout",
     "output_type": "stream",
     "text": [
      "precision:  1.0 for \"M\" class , 0.6294117647058823 for \"B\" class\n",
      "recall:  0.015625 for \"M\" class , 1.0 for \"B\" class\n",
      "fscore:  0.03076923076923077 for \"M\" class , 0.7725631768953068 for \"B\" class\n"
     ]
    }
   ],
   "source": [
    "print('precision:  {0} for \"M\" class , {1} for \"B\" class'.format(precision[0], precision[1]))\n",
    "print('recall:  {0} for \"M\" class , {1} for \"B\" class'.format(recall[0], recall[1]))\n",
    "print('fscore:  {0} for \"M\" class , {1} for \"B\" class'.format(fscore[0], fscore[1]))"
   ]
  },
  {
   "cell_type": "markdown",
   "metadata": {},
   "source": [
    "## For different C  = 0.01, gamma = 0.01"
   ]
  },
  {
   "cell_type": "code",
   "execution_count": 62,
   "metadata": {},
   "outputs": [
    {
     "data": {
      "text/plain": [
       "SVC(C=0.01, cache_size=200, class_weight=None, coef0=0.0,\n",
       "  decision_function_shape='ovr', degree=3, gamma=0.01, kernel='rbf',\n",
       "  max_iter=-1, probability=False, random_state=None, shrinking=True,\n",
       "  tol=0.001, verbose=False)"
      ]
     },
     "execution_count": 62,
     "metadata": {},
     "output_type": "execute_result"
    }
   ],
   "source": [
    "NLSVC = SVC(C = 0.01, gamma = 0.01)\n",
    "NLSVC.fit(train_data.iloc[:,2:], train_data.iloc[:,1])"
   ]
  },
  {
   "cell_type": "code",
   "execution_count": 63,
   "metadata": {},
   "outputs": [],
   "source": [
    "y_pred = NLSVC.predict(test_data.iloc[:,2:])"
   ]
  },
  {
   "cell_type": "markdown",
   "metadata": {},
   "source": [
    "### Evaluate model "
   ]
  },
  {
   "cell_type": "code",
   "execution_count": 64,
   "metadata": {},
   "outputs": [
    {
     "name": "stderr",
     "output_type": "stream",
     "text": [
      "/home/magho/anaconda3/lib/python3.7/site-packages/sklearn/metrics/classification.py:1143: UndefinedMetricWarning: Precision and F-score are ill-defined and being set to 0.0 in labels with no predicted samples.\n",
      "  'precision', 'predicted', average, warn_for)\n"
     ]
    }
   ],
   "source": [
    "y_true = test_data.iloc[:,1]\n",
    "precision,recall,fscore, support = precision_recall_fscore_support(y_true, y_pred, labels=['M', 'B'])"
   ]
  },
  {
   "cell_type": "code",
   "execution_count": 65,
   "metadata": {},
   "outputs": [
    {
     "name": "stdout",
     "output_type": "stream",
     "text": [
      "precision:  0.0 for \"M\" class , 0.6257309941520468 for \"B\" class\n",
      "recall:  0.0 for \"M\" class , 1.0 for \"B\" class\n",
      "fscore:  0.0 for \"M\" class , 0.7697841726618705 for \"B\" class\n"
     ]
    }
   ],
   "source": [
    "print('precision:  {0} for \"M\" class , {1} for \"B\" class'.format(precision[0], precision[1]))\n",
    "print('recall:  {0} for \"M\" class , {1} for \"B\" class'.format(recall[0], recall[1]))\n",
    "print('fscore:  {0} for \"M\" class , {1} for \"B\" class'.format(fscore[0], fscore[1]))"
   ]
  },
  {
   "cell_type": "markdown",
   "metadata": {},
   "source": [
    "### less valuse for Evaluation matrices than C equal = 0.7 and gamma = 0.01, so paramter tunning helped to get better accurcy  "
   ]
  },
  {
   "cell_type": "markdown",
   "metadata": {},
   "source": [
    "## Logisitc Regression"
   ]
  },
  {
   "cell_type": "markdown",
   "metadata": {},
   "source": [
    "### select best C "
   ]
  },
  {
   "cell_type": "code",
   "execution_count": 66,
   "metadata": {},
   "outputs": [],
   "source": [
    "def LR_param_selection(X, y):\n",
    "    c = [0.1, 0.25 ,0.25, 0.3, 0.5, 0.7, 1.0, 1.2, 1.5]\n",
    "    LR = LogisticRegression()\n",
    "    param_grid = {'C': c}\n",
    "    grid_search = GridSearchCV(LR, param_grid, cv=10)\n",
    "    grid_search.fit(X, y)\n",
    "    grid_search.best_params_\n",
    "    return grid_search.best_params_"
   ]
  },
  {
   "cell_type": "code",
   "execution_count": 67,
   "metadata": {},
   "outputs": [
    {
     "name": "stderr",
     "output_type": "stream",
     "text": [
      "/home/magho/anaconda3/lib/python3.7/site-packages/sklearn/linear_model/logistic.py:433: FutureWarning: Default solver will be changed to 'lbfgs' in 0.22. Specify a solver to silence this warning.\n",
      "  FutureWarning)\n",
      "/home/magho/anaconda3/lib/python3.7/site-packages/sklearn/linear_model/logistic.py:433: FutureWarning: Default solver will be changed to 'lbfgs' in 0.22. Specify a solver to silence this warning.\n",
      "  FutureWarning)\n",
      "/home/magho/anaconda3/lib/python3.7/site-packages/sklearn/linear_model/logistic.py:433: FutureWarning: Default solver will be changed to 'lbfgs' in 0.22. Specify a solver to silence this warning.\n",
      "  FutureWarning)\n",
      "/home/magho/anaconda3/lib/python3.7/site-packages/sklearn/linear_model/logistic.py:433: FutureWarning: Default solver will be changed to 'lbfgs' in 0.22. Specify a solver to silence this warning.\n",
      "  FutureWarning)\n",
      "/home/magho/anaconda3/lib/python3.7/site-packages/sklearn/linear_model/logistic.py:433: FutureWarning: Default solver will be changed to 'lbfgs' in 0.22. Specify a solver to silence this warning.\n",
      "  FutureWarning)\n",
      "/home/magho/anaconda3/lib/python3.7/site-packages/sklearn/linear_model/logistic.py:433: FutureWarning: Default solver will be changed to 'lbfgs' in 0.22. Specify a solver to silence this warning.\n",
      "  FutureWarning)\n",
      "/home/magho/anaconda3/lib/python3.7/site-packages/sklearn/linear_model/logistic.py:433: FutureWarning: Default solver will be changed to 'lbfgs' in 0.22. Specify a solver to silence this warning.\n",
      "  FutureWarning)\n",
      "/home/magho/anaconda3/lib/python3.7/site-packages/sklearn/linear_model/logistic.py:433: FutureWarning: Default solver will be changed to 'lbfgs' in 0.22. Specify a solver to silence this warning.\n",
      "  FutureWarning)\n",
      "/home/magho/anaconda3/lib/python3.7/site-packages/sklearn/linear_model/logistic.py:433: FutureWarning: Default solver will be changed to 'lbfgs' in 0.22. Specify a solver to silence this warning.\n",
      "  FutureWarning)\n",
      "/home/magho/anaconda3/lib/python3.7/site-packages/sklearn/linear_model/logistic.py:433: FutureWarning: Default solver will be changed to 'lbfgs' in 0.22. Specify a solver to silence this warning.\n",
      "  FutureWarning)\n",
      "/home/magho/anaconda3/lib/python3.7/site-packages/sklearn/linear_model/logistic.py:433: FutureWarning: Default solver will be changed to 'lbfgs' in 0.22. Specify a solver to silence this warning.\n",
      "  FutureWarning)\n",
      "/home/magho/anaconda3/lib/python3.7/site-packages/sklearn/linear_model/logistic.py:433: FutureWarning: Default solver will be changed to 'lbfgs' in 0.22. Specify a solver to silence this warning.\n",
      "  FutureWarning)\n",
      "/home/magho/anaconda3/lib/python3.7/site-packages/sklearn/linear_model/logistic.py:433: FutureWarning: Default solver will be changed to 'lbfgs' in 0.22. Specify a solver to silence this warning.\n",
      "  FutureWarning)\n",
      "/home/magho/anaconda3/lib/python3.7/site-packages/sklearn/linear_model/logistic.py:433: FutureWarning: Default solver will be changed to 'lbfgs' in 0.22. Specify a solver to silence this warning.\n",
      "  FutureWarning)\n",
      "/home/magho/anaconda3/lib/python3.7/site-packages/sklearn/linear_model/logistic.py:433: FutureWarning: Default solver will be changed to 'lbfgs' in 0.22. Specify a solver to silence this warning.\n",
      "  FutureWarning)\n",
      "/home/magho/anaconda3/lib/python3.7/site-packages/sklearn/linear_model/logistic.py:433: FutureWarning: Default solver will be changed to 'lbfgs' in 0.22. Specify a solver to silence this warning.\n",
      "  FutureWarning)\n",
      "/home/magho/anaconda3/lib/python3.7/site-packages/sklearn/linear_model/logistic.py:433: FutureWarning: Default solver will be changed to 'lbfgs' in 0.22. Specify a solver to silence this warning.\n",
      "  FutureWarning)\n",
      "/home/magho/anaconda3/lib/python3.7/site-packages/sklearn/linear_model/logistic.py:433: FutureWarning: Default solver will be changed to 'lbfgs' in 0.22. Specify a solver to silence this warning.\n",
      "  FutureWarning)\n",
      "/home/magho/anaconda3/lib/python3.7/site-packages/sklearn/linear_model/logistic.py:433: FutureWarning: Default solver will be changed to 'lbfgs' in 0.22. Specify a solver to silence this warning.\n",
      "  FutureWarning)\n",
      "/home/magho/anaconda3/lib/python3.7/site-packages/sklearn/linear_model/logistic.py:433: FutureWarning: Default solver will be changed to 'lbfgs' in 0.22. Specify a solver to silence this warning.\n",
      "  FutureWarning)\n",
      "/home/magho/anaconda3/lib/python3.7/site-packages/sklearn/linear_model/logistic.py:433: FutureWarning: Default solver will be changed to 'lbfgs' in 0.22. Specify a solver to silence this warning.\n",
      "  FutureWarning)\n",
      "/home/magho/anaconda3/lib/python3.7/site-packages/sklearn/linear_model/logistic.py:433: FutureWarning: Default solver will be changed to 'lbfgs' in 0.22. Specify a solver to silence this warning.\n",
      "  FutureWarning)\n",
      "/home/magho/anaconda3/lib/python3.7/site-packages/sklearn/linear_model/logistic.py:433: FutureWarning: Default solver will be changed to 'lbfgs' in 0.22. Specify a solver to silence this warning.\n",
      "  FutureWarning)\n",
      "/home/magho/anaconda3/lib/python3.7/site-packages/sklearn/linear_model/logistic.py:433: FutureWarning: Default solver will be changed to 'lbfgs' in 0.22. Specify a solver to silence this warning.\n",
      "  FutureWarning)\n",
      "/home/magho/anaconda3/lib/python3.7/site-packages/sklearn/linear_model/logistic.py:433: FutureWarning: Default solver will be changed to 'lbfgs' in 0.22. Specify a solver to silence this warning.\n",
      "  FutureWarning)\n",
      "/home/magho/anaconda3/lib/python3.7/site-packages/sklearn/linear_model/logistic.py:433: FutureWarning: Default solver will be changed to 'lbfgs' in 0.22. Specify a solver to silence this warning.\n",
      "  FutureWarning)\n",
      "/home/magho/anaconda3/lib/python3.7/site-packages/sklearn/linear_model/logistic.py:433: FutureWarning: Default solver will be changed to 'lbfgs' in 0.22. Specify a solver to silence this warning.\n",
      "  FutureWarning)\n",
      "/home/magho/anaconda3/lib/python3.7/site-packages/sklearn/linear_model/logistic.py:433: FutureWarning: Default solver will be changed to 'lbfgs' in 0.22. Specify a solver to silence this warning.\n",
      "  FutureWarning)\n",
      "/home/magho/anaconda3/lib/python3.7/site-packages/sklearn/linear_model/logistic.py:433: FutureWarning: Default solver will be changed to 'lbfgs' in 0.22. Specify a solver to silence this warning.\n",
      "  FutureWarning)\n",
      "/home/magho/anaconda3/lib/python3.7/site-packages/sklearn/linear_model/logistic.py:433: FutureWarning: Default solver will be changed to 'lbfgs' in 0.22. Specify a solver to silence this warning.\n",
      "  FutureWarning)\n",
      "/home/magho/anaconda3/lib/python3.7/site-packages/sklearn/linear_model/logistic.py:433: FutureWarning: Default solver will be changed to 'lbfgs' in 0.22. Specify a solver to silence this warning.\n",
      "  FutureWarning)\n",
      "/home/magho/anaconda3/lib/python3.7/site-packages/sklearn/linear_model/logistic.py:433: FutureWarning: Default solver will be changed to 'lbfgs' in 0.22. Specify a solver to silence this warning.\n",
      "  FutureWarning)\n",
      "/home/magho/anaconda3/lib/python3.7/site-packages/sklearn/linear_model/logistic.py:433: FutureWarning: Default solver will be changed to 'lbfgs' in 0.22. Specify a solver to silence this warning.\n",
      "  FutureWarning)\n",
      "/home/magho/anaconda3/lib/python3.7/site-packages/sklearn/linear_model/logistic.py:433: FutureWarning: Default solver will be changed to 'lbfgs' in 0.22. Specify a solver to silence this warning.\n",
      "  FutureWarning)\n",
      "/home/magho/anaconda3/lib/python3.7/site-packages/sklearn/linear_model/logistic.py:433: FutureWarning: Default solver will be changed to 'lbfgs' in 0.22. Specify a solver to silence this warning.\n",
      "  FutureWarning)\n",
      "/home/magho/anaconda3/lib/python3.7/site-packages/sklearn/linear_model/logistic.py:433: FutureWarning: Default solver will be changed to 'lbfgs' in 0.22. Specify a solver to silence this warning.\n",
      "  FutureWarning)\n",
      "/home/magho/anaconda3/lib/python3.7/site-packages/sklearn/linear_model/logistic.py:433: FutureWarning: Default solver will be changed to 'lbfgs' in 0.22. Specify a solver to silence this warning.\n",
      "  FutureWarning)\n",
      "/home/magho/anaconda3/lib/python3.7/site-packages/sklearn/linear_model/logistic.py:433: FutureWarning: Default solver will be changed to 'lbfgs' in 0.22. Specify a solver to silence this warning.\n",
      "  FutureWarning)\n",
      "/home/magho/anaconda3/lib/python3.7/site-packages/sklearn/linear_model/logistic.py:433: FutureWarning: Default solver will be changed to 'lbfgs' in 0.22. Specify a solver to silence this warning.\n",
      "  FutureWarning)\n",
      "/home/magho/anaconda3/lib/python3.7/site-packages/sklearn/linear_model/logistic.py:433: FutureWarning: Default solver will be changed to 'lbfgs' in 0.22. Specify a solver to silence this warning.\n",
      "  FutureWarning)\n",
      "/home/magho/anaconda3/lib/python3.7/site-packages/sklearn/linear_model/logistic.py:433: FutureWarning: Default solver will be changed to 'lbfgs' in 0.22. Specify a solver to silence this warning.\n",
      "  FutureWarning)\n",
      "/home/magho/anaconda3/lib/python3.7/site-packages/sklearn/linear_model/logistic.py:433: FutureWarning: Default solver will be changed to 'lbfgs' in 0.22. Specify a solver to silence this warning.\n",
      "  FutureWarning)\n"
     ]
    },
    {
     "name": "stderr",
     "output_type": "stream",
     "text": [
      "/home/magho/anaconda3/lib/python3.7/site-packages/sklearn/linear_model/logistic.py:433: FutureWarning: Default solver will be changed to 'lbfgs' in 0.22. Specify a solver to silence this warning.\n",
      "  FutureWarning)\n",
      "/home/magho/anaconda3/lib/python3.7/site-packages/sklearn/linear_model/logistic.py:433: FutureWarning: Default solver will be changed to 'lbfgs' in 0.22. Specify a solver to silence this warning.\n",
      "  FutureWarning)\n",
      "/home/magho/anaconda3/lib/python3.7/site-packages/sklearn/linear_model/logistic.py:433: FutureWarning: Default solver will be changed to 'lbfgs' in 0.22. Specify a solver to silence this warning.\n",
      "  FutureWarning)\n",
      "/home/magho/anaconda3/lib/python3.7/site-packages/sklearn/linear_model/logistic.py:433: FutureWarning: Default solver will be changed to 'lbfgs' in 0.22. Specify a solver to silence this warning.\n",
      "  FutureWarning)\n",
      "/home/magho/anaconda3/lib/python3.7/site-packages/sklearn/linear_model/logistic.py:433: FutureWarning: Default solver will be changed to 'lbfgs' in 0.22. Specify a solver to silence this warning.\n",
      "  FutureWarning)\n",
      "/home/magho/anaconda3/lib/python3.7/site-packages/sklearn/linear_model/logistic.py:433: FutureWarning: Default solver will be changed to 'lbfgs' in 0.22. Specify a solver to silence this warning.\n",
      "  FutureWarning)\n",
      "/home/magho/anaconda3/lib/python3.7/site-packages/sklearn/linear_model/logistic.py:433: FutureWarning: Default solver will be changed to 'lbfgs' in 0.22. Specify a solver to silence this warning.\n",
      "  FutureWarning)\n",
      "/home/magho/anaconda3/lib/python3.7/site-packages/sklearn/linear_model/logistic.py:433: FutureWarning: Default solver will be changed to 'lbfgs' in 0.22. Specify a solver to silence this warning.\n",
      "  FutureWarning)\n",
      "/home/magho/anaconda3/lib/python3.7/site-packages/sklearn/linear_model/logistic.py:433: FutureWarning: Default solver will be changed to 'lbfgs' in 0.22. Specify a solver to silence this warning.\n",
      "  FutureWarning)\n",
      "/home/magho/anaconda3/lib/python3.7/site-packages/sklearn/linear_model/logistic.py:433: FutureWarning: Default solver will be changed to 'lbfgs' in 0.22. Specify a solver to silence this warning.\n",
      "  FutureWarning)\n",
      "/home/magho/anaconda3/lib/python3.7/site-packages/sklearn/linear_model/logistic.py:433: FutureWarning: Default solver will be changed to 'lbfgs' in 0.22. Specify a solver to silence this warning.\n",
      "  FutureWarning)\n",
      "/home/magho/anaconda3/lib/python3.7/site-packages/sklearn/linear_model/logistic.py:433: FutureWarning: Default solver will be changed to 'lbfgs' in 0.22. Specify a solver to silence this warning.\n",
      "  FutureWarning)\n",
      "/home/magho/anaconda3/lib/python3.7/site-packages/sklearn/linear_model/logistic.py:433: FutureWarning: Default solver will be changed to 'lbfgs' in 0.22. Specify a solver to silence this warning.\n",
      "  FutureWarning)\n",
      "/home/magho/anaconda3/lib/python3.7/site-packages/sklearn/linear_model/logistic.py:433: FutureWarning: Default solver will be changed to 'lbfgs' in 0.22. Specify a solver to silence this warning.\n",
      "  FutureWarning)\n",
      "/home/magho/anaconda3/lib/python3.7/site-packages/sklearn/linear_model/logistic.py:433: FutureWarning: Default solver will be changed to 'lbfgs' in 0.22. Specify a solver to silence this warning.\n",
      "  FutureWarning)\n",
      "/home/magho/anaconda3/lib/python3.7/site-packages/sklearn/linear_model/logistic.py:433: FutureWarning: Default solver will be changed to 'lbfgs' in 0.22. Specify a solver to silence this warning.\n",
      "  FutureWarning)\n",
      "/home/magho/anaconda3/lib/python3.7/site-packages/sklearn/linear_model/logistic.py:433: FutureWarning: Default solver will be changed to 'lbfgs' in 0.22. Specify a solver to silence this warning.\n",
      "  FutureWarning)\n",
      "/home/magho/anaconda3/lib/python3.7/site-packages/sklearn/linear_model/logistic.py:433: FutureWarning: Default solver will be changed to 'lbfgs' in 0.22. Specify a solver to silence this warning.\n",
      "  FutureWarning)\n",
      "/home/magho/anaconda3/lib/python3.7/site-packages/sklearn/linear_model/logistic.py:433: FutureWarning: Default solver will be changed to 'lbfgs' in 0.22. Specify a solver to silence this warning.\n",
      "  FutureWarning)\n",
      "/home/magho/anaconda3/lib/python3.7/site-packages/sklearn/linear_model/logistic.py:433: FutureWarning: Default solver will be changed to 'lbfgs' in 0.22. Specify a solver to silence this warning.\n",
      "  FutureWarning)\n",
      "/home/magho/anaconda3/lib/python3.7/site-packages/sklearn/linear_model/logistic.py:433: FutureWarning: Default solver will be changed to 'lbfgs' in 0.22. Specify a solver to silence this warning.\n",
      "  FutureWarning)\n",
      "/home/magho/anaconda3/lib/python3.7/site-packages/sklearn/linear_model/logistic.py:433: FutureWarning: Default solver will be changed to 'lbfgs' in 0.22. Specify a solver to silence this warning.\n",
      "  FutureWarning)\n",
      "/home/magho/anaconda3/lib/python3.7/site-packages/sklearn/linear_model/logistic.py:433: FutureWarning: Default solver will be changed to 'lbfgs' in 0.22. Specify a solver to silence this warning.\n",
      "  FutureWarning)\n",
      "/home/magho/anaconda3/lib/python3.7/site-packages/sklearn/linear_model/logistic.py:433: FutureWarning: Default solver will be changed to 'lbfgs' in 0.22. Specify a solver to silence this warning.\n",
      "  FutureWarning)\n",
      "/home/magho/anaconda3/lib/python3.7/site-packages/sklearn/linear_model/logistic.py:433: FutureWarning: Default solver will be changed to 'lbfgs' in 0.22. Specify a solver to silence this warning.\n",
      "  FutureWarning)\n",
      "/home/magho/anaconda3/lib/python3.7/site-packages/sklearn/linear_model/logistic.py:433: FutureWarning: Default solver will be changed to 'lbfgs' in 0.22. Specify a solver to silence this warning.\n",
      "  FutureWarning)\n",
      "/home/magho/anaconda3/lib/python3.7/site-packages/sklearn/linear_model/logistic.py:433: FutureWarning: Default solver will be changed to 'lbfgs' in 0.22. Specify a solver to silence this warning.\n",
      "  FutureWarning)\n",
      "/home/magho/anaconda3/lib/python3.7/site-packages/sklearn/linear_model/logistic.py:433: FutureWarning: Default solver will be changed to 'lbfgs' in 0.22. Specify a solver to silence this warning.\n",
      "  FutureWarning)\n",
      "/home/magho/anaconda3/lib/python3.7/site-packages/sklearn/linear_model/logistic.py:433: FutureWarning: Default solver will be changed to 'lbfgs' in 0.22. Specify a solver to silence this warning.\n",
      "  FutureWarning)\n",
      "/home/magho/anaconda3/lib/python3.7/site-packages/sklearn/linear_model/logistic.py:433: FutureWarning: Default solver will be changed to 'lbfgs' in 0.22. Specify a solver to silence this warning.\n",
      "  FutureWarning)\n",
      "/home/magho/anaconda3/lib/python3.7/site-packages/sklearn/linear_model/logistic.py:433: FutureWarning: Default solver will be changed to 'lbfgs' in 0.22. Specify a solver to silence this warning.\n",
      "  FutureWarning)\n",
      "/home/magho/anaconda3/lib/python3.7/site-packages/sklearn/linear_model/logistic.py:433: FutureWarning: Default solver will be changed to 'lbfgs' in 0.22. Specify a solver to silence this warning.\n",
      "  FutureWarning)\n",
      "/home/magho/anaconda3/lib/python3.7/site-packages/sklearn/linear_model/logistic.py:433: FutureWarning: Default solver will be changed to 'lbfgs' in 0.22. Specify a solver to silence this warning.\n",
      "  FutureWarning)\n",
      "/home/magho/anaconda3/lib/python3.7/site-packages/sklearn/linear_model/logistic.py:433: FutureWarning: Default solver will be changed to 'lbfgs' in 0.22. Specify a solver to silence this warning.\n",
      "  FutureWarning)\n",
      "/home/magho/anaconda3/lib/python3.7/site-packages/sklearn/linear_model/logistic.py:433: FutureWarning: Default solver will be changed to 'lbfgs' in 0.22. Specify a solver to silence this warning.\n",
      "  FutureWarning)\n",
      "/home/magho/anaconda3/lib/python3.7/site-packages/sklearn/linear_model/logistic.py:433: FutureWarning: Default solver will be changed to 'lbfgs' in 0.22. Specify a solver to silence this warning.\n",
      "  FutureWarning)\n",
      "/home/magho/anaconda3/lib/python3.7/site-packages/sklearn/linear_model/logistic.py:433: FutureWarning: Default solver will be changed to 'lbfgs' in 0.22. Specify a solver to silence this warning.\n",
      "  FutureWarning)\n",
      "/home/magho/anaconda3/lib/python3.7/site-packages/sklearn/linear_model/logistic.py:433: FutureWarning: Default solver will be changed to 'lbfgs' in 0.22. Specify a solver to silence this warning.\n",
      "  FutureWarning)\n",
      "/home/magho/anaconda3/lib/python3.7/site-packages/sklearn/linear_model/logistic.py:433: FutureWarning: Default solver will be changed to 'lbfgs' in 0.22. Specify a solver to silence this warning.\n",
      "  FutureWarning)\n",
      "/home/magho/anaconda3/lib/python3.7/site-packages/sklearn/linear_model/logistic.py:433: FutureWarning: Default solver will be changed to 'lbfgs' in 0.22. Specify a solver to silence this warning.\n",
      "  FutureWarning)\n",
      "/home/magho/anaconda3/lib/python3.7/site-packages/sklearn/linear_model/logistic.py:433: FutureWarning: Default solver will be changed to 'lbfgs' in 0.22. Specify a solver to silence this warning.\n",
      "  FutureWarning)\n",
      "/home/magho/anaconda3/lib/python3.7/site-packages/sklearn/linear_model/logistic.py:433: FutureWarning: Default solver will be changed to 'lbfgs' in 0.22. Specify a solver to silence this warning.\n",
      "  FutureWarning)\n",
      "/home/magho/anaconda3/lib/python3.7/site-packages/sklearn/linear_model/logistic.py:433: FutureWarning: Default solver will be changed to 'lbfgs' in 0.22. Specify a solver to silence this warning.\n",
      "  FutureWarning)\n",
      "/home/magho/anaconda3/lib/python3.7/site-packages/sklearn/linear_model/logistic.py:433: FutureWarning: Default solver will be changed to 'lbfgs' in 0.22. Specify a solver to silence this warning.\n",
      "  FutureWarning)\n",
      "/home/magho/anaconda3/lib/python3.7/site-packages/sklearn/linear_model/logistic.py:433: FutureWarning: Default solver will be changed to 'lbfgs' in 0.22. Specify a solver to silence this warning.\n",
      "  FutureWarning)\n",
      "/home/magho/anaconda3/lib/python3.7/site-packages/sklearn/linear_model/logistic.py:433: FutureWarning: Default solver will be changed to 'lbfgs' in 0.22. Specify a solver to silence this warning.\n",
      "  FutureWarning)\n",
      "/home/magho/anaconda3/lib/python3.7/site-packages/sklearn/linear_model/logistic.py:433: FutureWarning: Default solver will be changed to 'lbfgs' in 0.22. Specify a solver to silence this warning.\n",
      "  FutureWarning)\n",
      "/home/magho/anaconda3/lib/python3.7/site-packages/sklearn/linear_model/logistic.py:433: FutureWarning: Default solver will be changed to 'lbfgs' in 0.22. Specify a solver to silence this warning.\n",
      "  FutureWarning)\n",
      "/home/magho/anaconda3/lib/python3.7/site-packages/sklearn/linear_model/logistic.py:433: FutureWarning: Default solver will be changed to 'lbfgs' in 0.22. Specify a solver to silence this warning.\n",
      "  FutureWarning)\n"
     ]
    },
    {
     "data": {
      "text/plain": [
       "{'C': 0.1}"
      ]
     },
     "execution_count": 67,
     "metadata": {},
     "output_type": "execute_result"
    }
   ],
   "source": [
    "LR_param_selection(train_data.iloc[:,2:], train_data.iloc[:,1])"
   ]
  },
  {
   "cell_type": "markdown",
   "metadata": {},
   "source": [
    "- C = 0.1 is the best "
   ]
  },
  {
   "cell_type": "markdown",
   "metadata": {},
   "source": [
    "### train the model"
   ]
  },
  {
   "cell_type": "code",
   "execution_count": 68,
   "metadata": {},
   "outputs": [
    {
     "name": "stderr",
     "output_type": "stream",
     "text": [
      "/home/magho/anaconda3/lib/python3.7/site-packages/sklearn/linear_model/logistic.py:433: FutureWarning: Default solver will be changed to 'lbfgs' in 0.22. Specify a solver to silence this warning.\n",
      "  FutureWarning)\n"
     ]
    },
    {
     "data": {
      "text/plain": [
       "LogisticRegression(C=0.1, class_weight=None, dual=False, fit_intercept=True,\n",
       "          intercept_scaling=1, max_iter=100, multi_class='warn',\n",
       "          n_jobs=None, penalty='l2', random_state=None, solver='warn',\n",
       "          tol=0.0001, verbose=0, warm_start=False)"
      ]
     },
     "execution_count": 68,
     "metadata": {},
     "output_type": "execute_result"
    }
   ],
   "source": [
    "LR = LogisticRegression(C = 0.1)\n",
    "LR.fit(train_data.iloc[:,2:], train_data.iloc[:,1])"
   ]
  },
  {
   "cell_type": "code",
   "execution_count": 69,
   "metadata": {},
   "outputs": [],
   "source": [
    "y_pred = LR.predict(test_data.iloc[:,2:])"
   ]
  },
  {
   "cell_type": "markdown",
   "metadata": {},
   "source": [
    "### Evaluate model "
   ]
  },
  {
   "cell_type": "code",
   "execution_count": 70,
   "metadata": {},
   "outputs": [],
   "source": [
    "y_true = test_data.iloc[:,1]\n",
    "precision,recall,fscore, support = precision_recall_fscore_support(y_true, y_pred, labels=['M', 'B'])"
   ]
  },
  {
   "cell_type": "code",
   "execution_count": 71,
   "metadata": {},
   "outputs": [
    {
     "name": "stdout",
     "output_type": "stream",
     "text": [
      "precision:  0.9365079365079365 for \"M\" class , 0.9537037037037037 for \"B\" class\n",
      "recall:  0.921875 for \"M\" class , 0.9626168224299065 for \"B\" class\n",
      "fscore:  0.9291338582677166 for \"M\" class , 0.958139534883721 for \"B\" class\n"
     ]
    }
   ],
   "source": [
    "print('precision:  {0} for \"M\" class , {1} for \"B\" class'.format(precision[0], precision[1]))\n",
    "print('recall:  {0} for \"M\" class , {1} for \"B\" class'.format(recall[0], recall[1]))\n",
    "print('fscore:  {0} for \"M\" class , {1} for \"B\" class'.format(fscore[0], fscore[1]))"
   ]
  },
  {
   "cell_type": "markdown",
   "metadata": {},
   "source": [
    "### Confusion matrix"
   ]
  },
  {
   "cell_type": "code",
   "execution_count": 72,
   "metadata": {},
   "outputs": [
    {
     "data": {
      "text/plain": [
       "array([[ 59,   5],\n",
       "       [  4, 103]])"
      ]
     },
     "execution_count": 72,
     "metadata": {},
     "output_type": "execute_result"
    }
   ],
   "source": [
    "cm = confusion_matrix(y_true, y_pred, labels=['M', 'B'])\n",
    "cm"
   ]
  },
  {
   "cell_type": "code",
   "execution_count": 73,
   "metadata": {},
   "outputs": [
    {
     "data": {
      "image/png": "[encoded data removed]",
      "text/plain": [
       "<Figure size 432x288 with 2 Axes>"
      ]
     },
     "metadata": {
      "needs_background": "light"
     },
     "output_type": "display_data"
    }
   ],
   "source": [
    "ax= plt.subplot()\n",
    "sns.heatmap(cm, annot=True, ax = ax); #annot=True to annotate cells\n",
    "\n",
    "# labels, title and ticks\n",
    "ax.set_xlabel('Predicted labels');ax.set_ylabel('True labels'); \n",
    "ax.set_title('Confusion Matrix'); \n",
    "ax.xaxis.set_ticklabels(['M class', 'B class']); ax.yaxis.set_ticklabels(['M class', 'B class']);"
   ]
  },
  {
   "cell_type": "markdown",
   "metadata": {},
   "source": [
    "### For different C  = 2"
   ]
  },
  {
   "cell_type": "code",
   "execution_count": 74,
   "metadata": {},
   "outputs": [
    {
     "name": "stderr",
     "output_type": "stream",
     "text": [
      "/home/magho/anaconda3/lib/python3.7/site-packages/sklearn/linear_model/logistic.py:433: FutureWarning: Default solver will be changed to 'lbfgs' in 0.22. Specify a solver to silence this warning.\n",
      "  FutureWarning)\n"
     ]
    },
    {
     "data": {
      "text/plain": [
       "LogisticRegression(C=2, class_weight=None, dual=False, fit_intercept=True,\n",
       "          intercept_scaling=1, max_iter=100, multi_class='warn',\n",
       "          n_jobs=None, penalty='l2', random_state=None, solver='warn',\n",
       "          tol=0.0001, verbose=0, warm_start=False)"
      ]
     },
     "execution_count": 74,
     "metadata": {},
     "output_type": "execute_result"
    }
   ],
   "source": [
    "LR = LogisticRegression(C = 2)\n",
    "LR.fit(train_data.iloc[:,2:], train_data.iloc[:,1])"
   ]
  },
  {
   "cell_type": "code",
   "execution_count": 75,
   "metadata": {},
   "outputs": [],
   "source": [
    "y_pred = LR.predict(test_data.iloc[:,2:])"
   ]
  },
  {
   "cell_type": "markdown",
   "metadata": {},
   "source": [
    "### Evaluate model "
   ]
  },
  {
   "cell_type": "code",
   "execution_count": 76,
   "metadata": {},
   "outputs": [],
   "source": [
    "y_true = test_data.iloc[:,1]\n",
    "precision,recall,fscore, support = precision_recall_fscore_support(y_true, y_pred, labels=['M', 'B'])"
   ]
  },
  {
   "cell_type": "code",
   "execution_count": 77,
   "metadata": {},
   "outputs": [
    {
     "name": "stdout",
     "output_type": "stream",
     "text": [
      "precision:  0.9365079365079365 for \"M\" class , 0.9537037037037037 for \"B\" class\n",
      "recall:  0.921875 for \"M\" class , 0.9626168224299065 for \"B\" class\n",
      "fscore:  0.9291338582677166 for \"M\" class , 0.958139534883721 for \"B\" class\n"
     ]
    }
   ],
   "source": [
    "print('precision:  {0} for \"M\" class , {1} for \"B\" class'.format(precision[0], precision[1]))\n",
    "print('recall:  {0} for \"M\" class , {1} for \"B\" class'.format(recall[0], recall[1]))\n",
    "print('fscore:  {0} for \"M\" class , {1} for \"B\" class'.format(fscore[0], fscore[1]))"
   ]
  },
  {
   "cell_type": "markdown",
   "metadata": {},
   "source": [
    "### For different C  = 0.01"
   ]
  },
  {
   "cell_type": "code",
   "execution_count": 78,
   "metadata": {},
   "outputs": [
    {
     "name": "stderr",
     "output_type": "stream",
     "text": [
      "/home/magho/anaconda3/lib/python3.7/site-packages/sklearn/linear_model/logistic.py:433: FutureWarning: Default solver will be changed to 'lbfgs' in 0.22. Specify a solver to silence this warning.\n",
      "  FutureWarning)\n"
     ]
    },
    {
     "data": {
      "text/plain": [
       "LogisticRegression(C=0.01, class_weight=None, dual=False, fit_intercept=True,\n",
       "          intercept_scaling=1, max_iter=100, multi_class='warn',\n",
       "          n_jobs=None, penalty='l2', random_state=None, solver='warn',\n",
       "          tol=0.0001, verbose=0, warm_start=False)"
      ]
     },
     "execution_count": 78,
     "metadata": {},
     "output_type": "execute_result"
    }
   ],
   "source": [
    "LR = LogisticRegression(C = 0.01)\n",
    "LR.fit(train_data.iloc[:,2:], train_data.iloc[:,1])"
   ]
  },
  {
   "cell_type": "code",
   "execution_count": 79,
   "metadata": {},
   "outputs": [],
   "source": [
    "y_pred = LR.predict(test_data.iloc[:,2:])"
   ]
  },
  {
   "cell_type": "markdown",
   "metadata": {},
   "source": [
    "### Evaluate model "
   ]
  },
  {
   "cell_type": "code",
   "execution_count": 80,
   "metadata": {},
   "outputs": [],
   "source": [
    "y_true = test_data.iloc[:,1]\n",
    "precision,recall,fscore, support = precision_recall_fscore_support(y_true, y_pred, labels=['M', 'B'])"
   ]
  },
  {
   "cell_type": "code",
   "execution_count": 81,
   "metadata": {},
   "outputs": [
    {
     "name": "stdout",
     "output_type": "stream",
     "text": [
      "precision:  0.9672131147540983 for \"M\" class , 0.9545454545454546 for \"B\" class\n",
      "recall:  0.921875 for \"M\" class , 0.9813084112149533 for \"B\" class\n",
      "fscore:  0.944 for \"M\" class , 0.967741935483871 for \"B\" class\n"
     ]
    }
   ],
   "source": [
    "print('precision:  {0} for \"M\" class , {1} for \"B\" class'.format(precision[0], precision[1]))\n",
    "print('recall:  {0} for \"M\" class , {1} for \"B\" class'.format(recall[0], recall[1]))\n",
    "print('fscore:  {0} for \"M\" class , {1} for \"B\" class'.format(fscore[0], fscore[1]))"
   ]
  },
  {
   "cell_type": "markdown",
   "metadata": {},
   "source": [
    "### less valuse for Evaluation matrices than C equal = 0.25 , so paramter tunning helped to get better accurcy  "
   ]
  },
  {
   "cell_type": "markdown",
   "metadata": {},
   "source": [
    "# Conclusion \n",
    "- All the models have very good values for the precession, recall, and F-score\n",
    "- The best model is the LinerSVC classifier as the number of wrongly classified samples is = 7\n",
    "- the second best one is logisitc regresssion wit number of wrong clssified samples = 8"
   ]
  },
  {
   "cell_type": "code",
   "execution_count": null,
   "metadata": {},
   "outputs": [],
   "source": []
  }
 ],
 "metadata": {
  "kernelspec": {
   "display_name": "Python 3",
   "language": "python",
   "name": "python3"
  },
  "language_info": {
   "codemirror_mode": {
    "name": "ipython",
    "version": 3
   },
   "file_extension": ".py",
   "mimetype": "text/x-python",
   "name": "python",
   "nbconvert_exporter": "python",
   "pygments_lexer": "ipython3",
   "version": "3.7.3"
  }
 },
 "nbformat": 4,
 "nbformat_minor": 2
}
